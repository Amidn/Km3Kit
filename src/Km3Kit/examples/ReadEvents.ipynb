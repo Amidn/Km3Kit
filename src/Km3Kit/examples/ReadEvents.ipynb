{
 "cells": [
  {
   "cell_type": "code",
   "execution_count": null,
   "id": "ed8482e5-df84-42a2-813b-49442cc95f4f",
   "metadata": {},
   "outputs": [],
   "source": [
    "result = read(\"arca21\", \"GammaPy\", verbose=True)\n",
    "print(result)  # Output: /path/to/arca21_fits_version.fits"
   ]
  }
 ],
 "metadata": {
  "kernelspec": {
   "display_name": "Python 3 (ipykernel)",
   "language": "python",
   "name": "python3"
  },
  "language_info": {
   "codemirror_mode": {
    "name": "ipython",
    "version": 3
   },
   "file_extension": ".py",
   "mimetype": "text/x-python",
   "name": "python",
   "nbconvert_exporter": "python",
   "pygments_lexer": "ipython3",
   "version": "3.12.7"
  }
 },
 "nbformat": 4,
 "nbformat_minor": 5
}
