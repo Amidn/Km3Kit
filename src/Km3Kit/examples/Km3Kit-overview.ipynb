{
 "cells": [
  {
   "cell_type": "markdown",
   "metadata": {},
   "source": [
    "# Km3Kit : Overview\n",
    "\n"
   ]
  },
  {
   "cell_type": "markdown",
   "metadata": {},
   "source": [
    "## Setup"
   ]
  },
  {
   "cell_type": "code",
   "execution_count": 1,
   "metadata": {},
   "outputs": [],
   "source": [
    "%matplotlib inline\n",
    "import matplotlib.pyplot as plt\n",
    "from matplotlib import MatplotlibDeprecationWarning\n",
    "\n",
    "# this in general not advised, but for this specific notebook\n",
    "# I'd like to ignore some deprecation warnings by matplotlib\n",
    "import warnings\n",
    "warnings.filterwarnings(\n",
    "    \"ignore\", category=MatplotlibDeprecationWarning\n",
    ")"
   ]
  },
  {
   "cell_type": "code",
   "execution_count": 2,
   "metadata": {},
   "outputs": [],
   "source": [
    "import astropy.units as u\n",
    "from astropy.coordinates import SkyCoord"
   ]
  },
  {
   "cell_type": "code",
   "execution_count": 3,
   "metadata": {},
   "outputs": [],
   "source": [
    "from gammapy.data import EventList"
   ]
  },
  {
   "cell_type": "code",
   "execution_count": 10,
   "metadata": {},
   "outputs": [],
   "source": [
    "#events_Arca21 = EventList.read(\"data/fermi-3fhl-gc-events.fits\")\n",
    "events_Arca21 = EventList.read(\"../data/arca21_bdt_converted_Data.fits\")"
   ]
  },
  {
   "cell_type": "code",
   "execution_count": 11,
   "metadata": {},
   "outputs": [
    {
     "data": {
      "text/html": [
       "<div><i>Table length=49857399</i>\n",
       "<table id=\"table5614890608\" class=\"table-striped table-bordered table-condensed\">\n",
       "<thead><tr><th>RUN_ID</th><th>EVENT_ID</th><th>TYPE</th><th>RA</th><th>DEC</th><th>ENERGY</th><th>TIME</th></tr></thead>\n",
       "<thead><tr><th></th><th></th><th></th><th>deg</th><th>deg</th><th>GeV</th><th>s</th></tr></thead>\n",
       "<thead><tr><th>float64</th><th>float64</th><th>float64</th><th>float32</th><th>float32</th><th>float32</th><th>float64</th></tr></thead>\n",
       "<tr><td>13288.0</td><td>1.0</td><td>0.0</td><td>-57238.484</td><td>-57238.484</td><td>0.0</td><td>59844.6268298612</td></tr>\n",
       "<tr><td>13288.0</td><td>2.0</td><td>0.0</td><td>-57238.484</td><td>-57238.484</td><td>0.0</td><td>59844.62684143521</td></tr>\n",
       "<tr><td>13288.0</td><td>3.0</td><td>0.0</td><td>-57238.484</td><td>-57238.484</td><td>0.0</td><td>59844.62685879646</td></tr>\n",
       "<tr><td>13288.0</td><td>4.0</td><td>4000.0</td><td>256.91464</td><td>3.3188646</td><td>1491.3102</td><td>59844.62685995363</td></tr>\n",
       "<tr><td>13288.0</td><td>5.0</td><td>0.0</td><td>-57238.484</td><td>-57238.484</td><td>0.0</td><td>59844.626865740865</td></tr>\n",
       "<tr><td>13288.0</td><td>6.0</td><td>4000.0</td><td>272.96637</td><td>-0.6672938</td><td>0.02423879</td><td>59844.626866898034</td></tr>\n",
       "<tr><td>13288.0</td><td>7.0</td><td>0.0</td><td>-57238.484</td><td>-57238.484</td><td>0.0</td><td>59844.62687152764</td></tr>\n",
       "<tr><td>13288.0</td><td>8.0</td><td>4000.0</td><td>219.23274</td><td>61.264732</td><td>337.3898</td><td>59844.62687384244</td></tr>\n",
       "<tr><td>13288.0</td><td>9.0</td><td>0.0</td><td>-57238.484</td><td>-57238.484</td><td>0.0</td><td>59844.626875000075</td></tr>\n",
       "<tr><td>...</td><td>...</td><td>...</td><td>...</td><td>...</td><td>...</td><td>...</td></tr>\n",
       "<tr><td>14194.0</td><td>87987.0</td><td>0.0</td><td>-57238.484</td><td>-57238.484</td><td>0.0</td><td>59932.9996527778</td></tr>\n",
       "<tr><td>14194.0</td><td>87988.0</td><td>4000.0</td><td>95.29685</td><td>-5.5617523</td><td>2199.324</td><td>59932.9999293983</td></tr>\n",
       "<tr><td>14194.0</td><td>87989.0</td><td>4000.0</td><td>99.96156</td><td>47.510937</td><td>1958.1918</td><td>59932.99968749983</td></tr>\n",
       "<tr><td>14194.0</td><td>87990.0</td><td>0.0</td><td>-57238.484</td><td>-57238.484</td><td>0.0</td><td>59932.9999293983</td></tr>\n",
       "<tr><td>14194.0</td><td>87991.0</td><td>4000.0</td><td>70.51018</td><td>49.352978</td><td>1382.952</td><td>59932.999756944366</td></tr>\n",
       "<tr><td>14194.0</td><td>87992.0</td><td>4000.0</td><td>92.53882</td><td>13.310039</td><td>663.2577</td><td>59932.99996412033</td></tr>\n",
       "<tr><td>14194.0</td><td>87993.0</td><td>0.0</td><td>-57238.484</td><td>-57238.484</td><td>0.0</td><td>59932.999791666865</td></tr>\n",
       "<tr><td>14194.0</td><td>87994.0</td><td>4000.0</td><td>97.97124</td><td>39.28501</td><td>3242.1611</td><td>59932.99989583343</td></tr>\n",
       "<tr><td>14194.0</td><td>87995.0</td><td>4000.0</td><td>91.07274</td><td>-3.4922657</td><td>0.03840553</td><td>59932.999965277966</td></tr>\n",
       "<tr><td>14194.0</td><td>87996.0</td><td>0.0</td><td>-57238.484</td><td>-57238.484</td><td>0.0</td><td>59932.999965277966</td></tr>\n",
       "</table></div>"
      ],
      "text/plain": [
       "<Table length=49857399>\n",
       " RUN_ID EVENT_ID   TYPE      RA        DEC       ENERGY          TIME       \n",
       "                            deg        deg        GeV             s         \n",
       "float64 float64  float64  float32    float32    float32        float64      \n",
       "------- -------- ------- ---------- ---------- ---------- ------------------\n",
       "13288.0      1.0     0.0 -57238.484 -57238.484        0.0   59844.6268298612\n",
       "13288.0      2.0     0.0 -57238.484 -57238.484        0.0  59844.62684143521\n",
       "13288.0      3.0     0.0 -57238.484 -57238.484        0.0  59844.62685879646\n",
       "13288.0      4.0  4000.0  256.91464  3.3188646  1491.3102  59844.62685995363\n",
       "13288.0      5.0     0.0 -57238.484 -57238.484        0.0 59844.626865740865\n",
       "13288.0      6.0  4000.0  272.96637 -0.6672938 0.02423879 59844.626866898034\n",
       "13288.0      7.0     0.0 -57238.484 -57238.484        0.0  59844.62687152764\n",
       "13288.0      8.0  4000.0  219.23274  61.264732   337.3898  59844.62687384244\n",
       "13288.0      9.0     0.0 -57238.484 -57238.484        0.0 59844.626875000075\n",
       "    ...      ...     ...        ...        ...        ...                ...\n",
       "14194.0  87987.0     0.0 -57238.484 -57238.484        0.0   59932.9996527778\n",
       "14194.0  87988.0  4000.0   95.29685 -5.5617523   2199.324   59932.9999293983\n",
       "14194.0  87989.0  4000.0   99.96156  47.510937  1958.1918  59932.99968749983\n",
       "14194.0  87990.0     0.0 -57238.484 -57238.484        0.0   59932.9999293983\n",
       "14194.0  87991.0  4000.0   70.51018  49.352978   1382.952 59932.999756944366\n",
       "14194.0  87992.0  4000.0   92.53882  13.310039   663.2577  59932.99996412033\n",
       "14194.0  87993.0     0.0 -57238.484 -57238.484        0.0 59932.999791666865\n",
       "14194.0  87994.0  4000.0   97.97124   39.28501  3242.1611  59932.99989583343\n",
       "14194.0  87995.0  4000.0   91.07274 -3.4922657 0.03840553 59932.999965277966\n",
       "14194.0  87996.0     0.0 -57238.484 -57238.484        0.0 59932.999965277966"
      ]
     },
     "execution_count": 11,
     "metadata": {},
     "output_type": "execute_result"
    }
   ],
   "source": [
    "events_Arca21.table"
   ]
  },
  {
   "cell_type": "markdown",
   "metadata": {},
   "source": [
    "You can do *len* over event_Arca21.table to find the total number of events."
   ]
  },
  {
   "cell_type": "code",
   "execution_count": 12,
   "metadata": {},
   "outputs": [
    {
     "data": {
      "text/plain": [
       "49857399"
      ]
     },
     "execution_count": 12,
     "metadata": {},
     "output_type": "execute_result"
    }
   ],
   "source": [
    "len(events_Arca21.table)"
   ]
  },
  {
   "cell_type": "markdown",
   "metadata": {},
   "source": [
    "And we can access any other attribute of the `Table` object as well:"
   ]
  },
  {
   "cell_type": "code",
   "execution_count": 13,
   "metadata": {},
   "outputs": [
    {
     "data": {
      "text/plain": [
       "['RUN_ID', 'EVENT_ID', 'TYPE', 'RA', 'DEC', 'ENERGY', 'TIME']"
      ]
     },
     "execution_count": 13,
     "metadata": {},
     "output_type": "execute_result"
    }
   ],
   "source": [
    "events_Arca21.table.colnames"
   ]
  },
  {
   "cell_type": "markdown",
   "metadata": {},
   "source": [
    "For convenience we can access the most important event parameters as properties on the `EventList` objects. The attributes will return corresponding Astropy objects to represent the data, such as [astropy.units.Quantity](http://docs.astropy.org/en/stable/api/astropy.units.Quantity.html), [astropy.coordinates.SkyCoord](http://docs.astropy.org/en/stable/api/astropy.coordinates.SkyCoord.html) or [astropy.time.Time](http://docs.astropy.org/en/stable/api/astropy.time.Time.html#astropy.time.Time) objects:"
   ]
  },
  {
   "cell_type": "code",
   "execution_count": 14,
   "metadata": {},
   "outputs": [
    {
     "data": {
      "text/latex": [
       "$[0,~0,~0,~\\dots,~3242.1611,~0.03840553,~0] \\; \\mathrm{GeV}$"
      ],
      "text/plain": [
       "<Quantity [0.0000000e+00, 0.0000000e+00, 0.0000000e+00, ..., 3.2421611e+03,\n",
       "           3.8405530e-02, 0.0000000e+00] GeV>"
      ]
     },
     "execution_count": 14,
     "metadata": {},
     "output_type": "execute_result"
    }
   ],
   "source": [
    "events_Arca21.energy.to(\"GeV\")"
   ]
  },
  {
   "cell_type": "code",
   "execution_count": 15,
   "metadata": {},
   "outputs": [
    {
     "ename": "ValueError",
     "evalue": "Latitude angle(s) must be within -90 deg <= angle <= 90 deg, got [-5.7238484e+04 -5.7238484e+04 -5.7238484e+04 ...  3.9285011e+01\n -3.4922657e+00 -5.7238484e+04] deg",
     "output_type": "error",
     "traceback": [
      "\u001b[0;31m---------------------------------------------------------------------------\u001b[0m",
      "\u001b[0;31mValueError\u001b[0m                                Traceback (most recent call last)",
      "Cell \u001b[0;32mIn[15], line 1\u001b[0m\n\u001b[0;32m----> 1\u001b[0m events_Arca21\u001b[38;5;241m.\u001b[39mgalactic\n",
      "File \u001b[0;32m/opt/anaconda3/envs/Km3Kit/lib/python3.12/site-packages/gammapy/data/event_list.py:309\u001b[0m, in \u001b[0;36mEventList.galactic\u001b[0;34m(self)\u001b[0m\n\u001b[1;32m    303\u001b[0m \u001b[38;5;129m@property\u001b[39m\n\u001b[1;32m    304\u001b[0m \u001b[38;5;28;01mdef\u001b[39;00m \u001b[38;5;21mgalactic\u001b[39m(\u001b[38;5;28mself\u001b[39m):\n\u001b[1;32m    305\u001b[0m \u001b[38;5;250m    \u001b[39m\u001b[38;5;124;03m\"\"\"Event Galactic sky coordinates as a `~astropy.coordinates.SkyCoord` object.\u001b[39;00m\n\u001b[1;32m    306\u001b[0m \n\u001b[1;32m    307\u001b[0m \u001b[38;5;124;03m    Always computed from RA / DEC using Astropy.\u001b[39;00m\n\u001b[1;32m    308\u001b[0m \u001b[38;5;124;03m    \"\"\"\u001b[39;00m\n\u001b[0;32m--> 309\u001b[0m     \u001b[38;5;28;01mreturn\u001b[39;00m \u001b[38;5;28mself\u001b[39m\u001b[38;5;241m.\u001b[39mradec\u001b[38;5;241m.\u001b[39mgalactic\n",
      "File \u001b[0;32m/opt/anaconda3/envs/Km3Kit/lib/python3.12/site-packages/gammapy/data/event_list.py:301\u001b[0m, in \u001b[0;36mEventList.radec\u001b[0;34m(self)\u001b[0m\n\u001b[1;32m    299\u001b[0m \u001b[38;5;250m\u001b[39m\u001b[38;5;124;03m\"\"\"Event RA / DEC sky coordinates as a `~astropy.coordinates.SkyCoord` object.\"\"\"\u001b[39;00m\n\u001b[1;32m    300\u001b[0m lon, lat \u001b[38;5;241m=\u001b[39m \u001b[38;5;28mself\u001b[39m\u001b[38;5;241m.\u001b[39mtable[\u001b[38;5;124m\"\u001b[39m\u001b[38;5;124mRA\u001b[39m\u001b[38;5;124m\"\u001b[39m], \u001b[38;5;28mself\u001b[39m\u001b[38;5;241m.\u001b[39mtable[\u001b[38;5;124m\"\u001b[39m\u001b[38;5;124mDEC\u001b[39m\u001b[38;5;124m\"\u001b[39m]\n\u001b[0;32m--> 301\u001b[0m \u001b[38;5;28;01mreturn\u001b[39;00m SkyCoord(lon, lat, unit\u001b[38;5;241m=\u001b[39m\u001b[38;5;124m\"\u001b[39m\u001b[38;5;124mdeg\u001b[39m\u001b[38;5;124m\"\u001b[39m, frame\u001b[38;5;241m=\u001b[39m\u001b[38;5;124m\"\u001b[39m\u001b[38;5;124micrs\u001b[39m\u001b[38;5;124m\"\u001b[39m)\n",
      "File \u001b[0;32m/opt/anaconda3/envs/Km3Kit/lib/python3.12/site-packages/astropy/coordinates/sky_coordinate.py:339\u001b[0m, in \u001b[0;36mSkyCoord.__init__\u001b[0;34m(self, copy, *args, **kwargs)\u001b[0m\n\u001b[1;32m    335\u001b[0m \u001b[38;5;66;03m# Parse the args and kwargs to assemble a sanitized and validated\u001b[39;00m\n\u001b[1;32m    336\u001b[0m \u001b[38;5;66;03m# kwargs dict for initializing attributes for this object and for\u001b[39;00m\n\u001b[1;32m    337\u001b[0m \u001b[38;5;66;03m# creating the internal self._sky_coord_frame object\u001b[39;00m\n\u001b[1;32m    338\u001b[0m args \u001b[38;5;241m=\u001b[39m \u001b[38;5;28mlist\u001b[39m(args)  \u001b[38;5;66;03m# Make it mutable\u001b[39;00m\n\u001b[0;32m--> 339\u001b[0m skycoord_kwargs, components, info \u001b[38;5;241m=\u001b[39m _parse_coordinate_data(\n\u001b[1;32m    340\u001b[0m     frame_cls(\u001b[38;5;241m*\u001b[39m\u001b[38;5;241m*\u001b[39mframe_kwargs), args, kwargs\n\u001b[1;32m    341\u001b[0m )\n\u001b[1;32m    343\u001b[0m \u001b[38;5;66;03m# In the above two parsing functions, these kwargs were identified\u001b[39;00m\n\u001b[1;32m    344\u001b[0m \u001b[38;5;66;03m# as valid frame attributes for *some* frame, but not the frame that\u001b[39;00m\n\u001b[1;32m    345\u001b[0m \u001b[38;5;66;03m# this SkyCoord will have. We keep these attributes as special\u001b[39;00m\n\u001b[1;32m    346\u001b[0m \u001b[38;5;66;03m# skycoord frame attributes:\u001b[39;00m\n\u001b[1;32m    347\u001b[0m \u001b[38;5;28;01mfor\u001b[39;00m attr \u001b[38;5;129;01min\u001b[39;00m skycoord_kwargs:\n\u001b[1;32m    348\u001b[0m     \u001b[38;5;66;03m# Setting it will also validate it.\u001b[39;00m\n",
      "File \u001b[0;32m/opt/anaconda3/envs/Km3Kit/lib/python3.12/site-packages/astropy/coordinates/sky_coordinate_parsers.py:312\u001b[0m, in \u001b[0;36m_parse_coordinate_data\u001b[0;34m(frame, args, kwargs)\u001b[0m\n\u001b[1;32m    308\u001b[0m     \u001b[38;5;28;01mfor\u001b[39;00m arg, frame_attr_name, repr_attr_name, unit \u001b[38;5;129;01min\u001b[39;00m \u001b[38;5;28mzip\u001b[39m(\n\u001b[1;32m    309\u001b[0m         args, frame_attr_names, repr_attr_names, units\n\u001b[1;32m    310\u001b[0m     ):\n\u001b[1;32m    311\u001b[0m         attr_class \u001b[38;5;241m=\u001b[39m frame\u001b[38;5;241m.\u001b[39mrepresentation_type\u001b[38;5;241m.\u001b[39mattr_classes[repr_attr_name]\n\u001b[0;32m--> 312\u001b[0m         _components[frame_attr_name] \u001b[38;5;241m=\u001b[39m attr_class(arg, unit\u001b[38;5;241m=\u001b[39munit)\n\u001b[1;32m    314\u001b[0m \u001b[38;5;28;01melse\u001b[39;00m:\n\u001b[1;32m    315\u001b[0m     \u001b[38;5;28;01mraise\u001b[39;00m \u001b[38;5;167;01mValueError\u001b[39;00m(\n\u001b[1;32m    316\u001b[0m         \u001b[38;5;124mf\u001b[39m\u001b[38;5;124m\"\u001b[39m\u001b[38;5;124mMust supply no more than three positional arguments, got \u001b[39m\u001b[38;5;132;01m{\u001b[39;00m\u001b[38;5;28mlen\u001b[39m(args)\u001b[38;5;132;01m}\u001b[39;00m\u001b[38;5;124m\"\u001b[39m\n\u001b[1;32m    317\u001b[0m     )\n",
      "File \u001b[0;32m/opt/anaconda3/envs/Km3Kit/lib/python3.12/site-packages/astropy/coordinates/angles/core.py:586\u001b[0m, in \u001b[0;36mLatitude.__new__\u001b[0;34m(cls, angle, unit, **kwargs)\u001b[0m\n\u001b[1;32m    584\u001b[0m     \u001b[38;5;28;01mraise\u001b[39;00m \u001b[38;5;167;01mTypeError\u001b[39;00m(\u001b[38;5;124m\"\u001b[39m\u001b[38;5;124mA Latitude angle cannot be created from a Longitude angle\u001b[39m\u001b[38;5;124m\"\u001b[39m)\n\u001b[1;32m    585\u001b[0m \u001b[38;5;28mself\u001b[39m \u001b[38;5;241m=\u001b[39m \u001b[38;5;28msuper\u001b[39m()\u001b[38;5;241m.\u001b[39m\u001b[38;5;21m__new__\u001b[39m(\u001b[38;5;28mcls\u001b[39m, angle, unit\u001b[38;5;241m=\u001b[39munit, \u001b[38;5;241m*\u001b[39m\u001b[38;5;241m*\u001b[39mkwargs)\n\u001b[0;32m--> 586\u001b[0m \u001b[38;5;28mself\u001b[39m\u001b[38;5;241m.\u001b[39m_validate_angles()\n\u001b[1;32m    587\u001b[0m \u001b[38;5;28;01mreturn\u001b[39;00m \u001b[38;5;28mself\u001b[39m\n",
      "File \u001b[0;32m/opt/anaconda3/envs/Km3Kit/lib/python3.12/site-packages/astropy/coordinates/angles/core.py:618\u001b[0m, in \u001b[0;36mLatitude._validate_angles\u001b[0;34m(self, angles)\u001b[0m\n\u001b[1;32m    616\u001b[0m invalid_angles \u001b[38;5;241m=\u001b[39m np\u001b[38;5;241m.\u001b[39many(angles_view \u001b[38;5;241m<\u001b[39m \u001b[38;5;241m-\u001b[39mlimit) \u001b[38;5;129;01mor\u001b[39;00m np\u001b[38;5;241m.\u001b[39many(angles_view \u001b[38;5;241m>\u001b[39m limit)\n\u001b[1;32m    617\u001b[0m \u001b[38;5;28;01mif\u001b[39;00m invalid_angles:\n\u001b[0;32m--> 618\u001b[0m     \u001b[38;5;28;01mraise\u001b[39;00m \u001b[38;5;167;01mValueError\u001b[39;00m(\n\u001b[1;32m    619\u001b[0m         \u001b[38;5;124m\"\u001b[39m\u001b[38;5;124mLatitude angle(s) must be within -90 deg <= angle <= 90 deg, \u001b[39m\u001b[38;5;124m\"\u001b[39m\n\u001b[1;32m    620\u001b[0m         \u001b[38;5;124mf\u001b[39m\u001b[38;5;124m\"\u001b[39m\u001b[38;5;124mgot \u001b[39m\u001b[38;5;132;01m{\u001b[39;00mangles\u001b[38;5;241m.\u001b[39mto(u\u001b[38;5;241m.\u001b[39mdegree)\u001b[38;5;132;01m}\u001b[39;00m\u001b[38;5;124m\"\u001b[39m\n\u001b[1;32m    621\u001b[0m     )\n",
      "\u001b[0;31mValueError\u001b[0m: Latitude angle(s) must be within -90 deg <= angle <= 90 deg, got [-5.7238484e+04 -5.7238484e+04 -5.7238484e+04 ...  3.9285011e+01\n -3.4922657e+00 -5.7238484e+04] deg"
     ]
    }
   ],
   "source": [
    "events_Arca21.galactic"
   ]
  },
  {
   "cell_type": "code",
   "execution_count": 16,
   "metadata": {},
   "outputs": [
    {
     "data": {
      "text/plain": [
       "<Time object: scale='tt' format='mjd' value=[0.69264614 0.69264614 0.69264614 ... 0.69366898 0.69366898 0.69366898]>"
      ]
     },
     "execution_count": 16,
     "metadata": {},
     "output_type": "execute_result"
    }
   ],
   "source": [
    "events_Arca21.time"
   ]
  },
  {
   "cell_type": "markdown",
   "metadata": {},
   "source": [
    "There is also some convenience to plot the events:"
   ]
  },
  {
   "cell_type": "code",
   "execution_count": 17,
   "metadata": {},
   "outputs": [
    {
     "ename": "ValueError",
     "evalue": "Latitude angle(s) must be within -90 deg <= angle <= 90 deg, got [-5.7238484e+04 -5.7238484e+04 -5.7238484e+04 ...  3.9285011e+01\n -3.4922657e+00 -5.7238484e+04] deg",
     "output_type": "error",
     "traceback": [
      "\u001b[0;31m---------------------------------------------------------------------------\u001b[0m",
      "\u001b[0;31mValueError\u001b[0m                                Traceback (most recent call last)",
      "Cell \u001b[0;32mIn[17], line 1\u001b[0m\n\u001b[0;32m----> 1\u001b[0m events_Arca21\u001b[38;5;241m.\u001b[39mplot_image()\n",
      "File \u001b[0;32m/opt/anaconda3/envs/Km3Kit/lib/python3.12/site-packages/gammapy/data/event_list.py:955\u001b[0m, in \u001b[0;36mEventList.plot_image\u001b[0;34m(self, ax, allsky)\u001b[0m\n\u001b[1;32m    953\u001b[0m \u001b[38;5;28;01mif\u001b[39;00m ax \u001b[38;5;129;01mis\u001b[39;00m \u001b[38;5;28;01mNone\u001b[39;00m:\n\u001b[1;32m    954\u001b[0m     ax \u001b[38;5;241m=\u001b[39m plt\u001b[38;5;241m.\u001b[39mgca()\n\u001b[0;32m--> 955\u001b[0m m \u001b[38;5;241m=\u001b[39m \u001b[38;5;28mself\u001b[39m\u001b[38;5;241m.\u001b[39m_counts_image(allsky\u001b[38;5;241m=\u001b[39mallsky)\n\u001b[1;32m    956\u001b[0m m\u001b[38;5;241m.\u001b[39mplot(ax\u001b[38;5;241m=\u001b[39max, stretch\u001b[38;5;241m=\u001b[39m\u001b[38;5;124m\"\u001b[39m\u001b[38;5;124msqrt\u001b[39m\u001b[38;5;124m\"\u001b[39m)\n",
      "File \u001b[0;32m/opt/anaconda3/envs/Km3Kit/lib/python3.12/site-packages/gammapy/data/event_list.py:931\u001b[0m, in \u001b[0;36mEventList._counts_image\u001b[0;34m(self, allsky)\u001b[0m\n\u001b[1;32m    923\u001b[0m     opts \u001b[38;5;241m=\u001b[39m {\n\u001b[1;32m    924\u001b[0m         \u001b[38;5;124m\"\u001b[39m\u001b[38;5;124mnpix\u001b[39m\u001b[38;5;124m\"\u001b[39m: (\u001b[38;5;241m360\u001b[39m, \u001b[38;5;241m180\u001b[39m),\n\u001b[1;32m    925\u001b[0m         \u001b[38;5;124m\"\u001b[39m\u001b[38;5;124mbinsz\u001b[39m\u001b[38;5;124m\"\u001b[39m: \u001b[38;5;241m1.0\u001b[39m,\n\u001b[1;32m    926\u001b[0m         \u001b[38;5;124m\"\u001b[39m\u001b[38;5;124mproj\u001b[39m\u001b[38;5;124m\"\u001b[39m: \u001b[38;5;124m\"\u001b[39m\u001b[38;5;124mAIT\u001b[39m\u001b[38;5;124m\"\u001b[39m,\n\u001b[1;32m    927\u001b[0m         \u001b[38;5;124m\"\u001b[39m\u001b[38;5;124mframe\u001b[39m\u001b[38;5;124m\"\u001b[39m: \u001b[38;5;124m\"\u001b[39m\u001b[38;5;124mgalactic\u001b[39m\u001b[38;5;124m\"\u001b[39m,\n\u001b[1;32m    928\u001b[0m     }\n\u001b[1;32m    929\u001b[0m \u001b[38;5;28;01melse\u001b[39;00m:\n\u001b[1;32m    930\u001b[0m     opts \u001b[38;5;241m=\u001b[39m {\n\u001b[0;32m--> 931\u001b[0m         \u001b[38;5;124m\"\u001b[39m\u001b[38;5;124mwidth\u001b[39m\u001b[38;5;124m\"\u001b[39m: \u001b[38;5;28mself\u001b[39m\u001b[38;5;241m.\u001b[39m_plot_width,\n\u001b[1;32m    932\u001b[0m         \u001b[38;5;124m\"\u001b[39m\u001b[38;5;124mbinsz\u001b[39m\u001b[38;5;124m\"\u001b[39m: \u001b[38;5;241m0.05\u001b[39m,\n\u001b[1;32m    933\u001b[0m         \u001b[38;5;124m\"\u001b[39m\u001b[38;5;124mproj\u001b[39m\u001b[38;5;124m\"\u001b[39m: \u001b[38;5;124m\"\u001b[39m\u001b[38;5;124mTAN\u001b[39m\u001b[38;5;124m\"\u001b[39m,\n\u001b[1;32m    934\u001b[0m         \u001b[38;5;124m\"\u001b[39m\u001b[38;5;124mframe\u001b[39m\u001b[38;5;124m\"\u001b[39m: \u001b[38;5;124m\"\u001b[39m\u001b[38;5;124mgalactic\u001b[39m\u001b[38;5;124m\"\u001b[39m,\n\u001b[1;32m    935\u001b[0m         \u001b[38;5;124m\"\u001b[39m\u001b[38;5;124mskydir\u001b[39m\u001b[38;5;124m\"\u001b[39m: \u001b[38;5;28mself\u001b[39m\u001b[38;5;241m.\u001b[39m_plot_center,\n\u001b[1;32m    936\u001b[0m     }\n\u001b[1;32m    938\u001b[0m m \u001b[38;5;241m=\u001b[39m WcsNDMap\u001b[38;5;241m.\u001b[39mcreate(\u001b[38;5;241m*\u001b[39m\u001b[38;5;241m*\u001b[39mopts)\n\u001b[1;32m    939\u001b[0m m\u001b[38;5;241m.\u001b[39mfill_by_coord(\u001b[38;5;28mself\u001b[39m\u001b[38;5;241m.\u001b[39mradec)\n",
      "File \u001b[0;32m/opt/anaconda3/envs/Km3Kit/lib/python3.12/site-packages/gammapy/data/event_list.py:917\u001b[0m, in \u001b[0;36mEventList._plot_width\u001b[0;34m(self)\u001b[0m\n\u001b[1;32m    915\u001b[0m     offset \u001b[38;5;241m=\u001b[39m \u001b[38;5;28mself\u001b[39m\u001b[38;5;241m.\u001b[39moffset\n\u001b[1;32m    916\u001b[0m \u001b[38;5;28;01melse\u001b[39;00m:\n\u001b[0;32m--> 917\u001b[0m     offset \u001b[38;5;241m=\u001b[39m \u001b[38;5;28mself\u001b[39m\u001b[38;5;241m.\u001b[39moffset_from_median\n\u001b[1;32m    919\u001b[0m \u001b[38;5;28;01mreturn\u001b[39;00m \u001b[38;5;241m2\u001b[39m \u001b[38;5;241m*\u001b[39m offset\u001b[38;5;241m.\u001b[39mmax()\n",
      "File \u001b[0;32m/opt/anaconda3/envs/Km3Kit/lib/python3.12/site-packages/gammapy/data/event_list.py:797\u001b[0m, in \u001b[0;36mEventList.offset_from_median\u001b[0;34m(self)\u001b[0m\n\u001b[1;32m    794\u001b[0m \u001b[38;5;129m@property\u001b[39m\n\u001b[1;32m    795\u001b[0m \u001b[38;5;28;01mdef\u001b[39;00m \u001b[38;5;21moffset_from_median\u001b[39m(\u001b[38;5;28mself\u001b[39m):\n\u001b[1;32m    796\u001b[0m \u001b[38;5;250m    \u001b[39m\u001b[38;5;124;03m\"\"\"Event offset from the median position as an `~astropy.coordinates.Angle`.\"\"\"\u001b[39;00m\n\u001b[0;32m--> 797\u001b[0m     position \u001b[38;5;241m=\u001b[39m \u001b[38;5;28mself\u001b[39m\u001b[38;5;241m.\u001b[39mradec\n\u001b[1;32m    798\u001b[0m     center \u001b[38;5;241m=\u001b[39m \u001b[38;5;28mself\u001b[39m\u001b[38;5;241m.\u001b[39mgalactic_median\n\u001b[1;32m    799\u001b[0m     offset \u001b[38;5;241m=\u001b[39m center\u001b[38;5;241m.\u001b[39mseparation(position)\n",
      "File \u001b[0;32m/opt/anaconda3/envs/Km3Kit/lib/python3.12/site-packages/gammapy/data/event_list.py:301\u001b[0m, in \u001b[0;36mEventList.radec\u001b[0;34m(self)\u001b[0m\n\u001b[1;32m    299\u001b[0m \u001b[38;5;250m\u001b[39m\u001b[38;5;124;03m\"\"\"Event RA / DEC sky coordinates as a `~astropy.coordinates.SkyCoord` object.\"\"\"\u001b[39;00m\n\u001b[1;32m    300\u001b[0m lon, lat \u001b[38;5;241m=\u001b[39m \u001b[38;5;28mself\u001b[39m\u001b[38;5;241m.\u001b[39mtable[\u001b[38;5;124m\"\u001b[39m\u001b[38;5;124mRA\u001b[39m\u001b[38;5;124m\"\u001b[39m], \u001b[38;5;28mself\u001b[39m\u001b[38;5;241m.\u001b[39mtable[\u001b[38;5;124m\"\u001b[39m\u001b[38;5;124mDEC\u001b[39m\u001b[38;5;124m\"\u001b[39m]\n\u001b[0;32m--> 301\u001b[0m \u001b[38;5;28;01mreturn\u001b[39;00m SkyCoord(lon, lat, unit\u001b[38;5;241m=\u001b[39m\u001b[38;5;124m\"\u001b[39m\u001b[38;5;124mdeg\u001b[39m\u001b[38;5;124m\"\u001b[39m, frame\u001b[38;5;241m=\u001b[39m\u001b[38;5;124m\"\u001b[39m\u001b[38;5;124micrs\u001b[39m\u001b[38;5;124m\"\u001b[39m)\n",
      "File \u001b[0;32m/opt/anaconda3/envs/Km3Kit/lib/python3.12/site-packages/astropy/coordinates/sky_coordinate.py:339\u001b[0m, in \u001b[0;36mSkyCoord.__init__\u001b[0;34m(self, copy, *args, **kwargs)\u001b[0m\n\u001b[1;32m    335\u001b[0m \u001b[38;5;66;03m# Parse the args and kwargs to assemble a sanitized and validated\u001b[39;00m\n\u001b[1;32m    336\u001b[0m \u001b[38;5;66;03m# kwargs dict for initializing attributes for this object and for\u001b[39;00m\n\u001b[1;32m    337\u001b[0m \u001b[38;5;66;03m# creating the internal self._sky_coord_frame object\u001b[39;00m\n\u001b[1;32m    338\u001b[0m args \u001b[38;5;241m=\u001b[39m \u001b[38;5;28mlist\u001b[39m(args)  \u001b[38;5;66;03m# Make it mutable\u001b[39;00m\n\u001b[0;32m--> 339\u001b[0m skycoord_kwargs, components, info \u001b[38;5;241m=\u001b[39m _parse_coordinate_data(\n\u001b[1;32m    340\u001b[0m     frame_cls(\u001b[38;5;241m*\u001b[39m\u001b[38;5;241m*\u001b[39mframe_kwargs), args, kwargs\n\u001b[1;32m    341\u001b[0m )\n\u001b[1;32m    343\u001b[0m \u001b[38;5;66;03m# In the above two parsing functions, these kwargs were identified\u001b[39;00m\n\u001b[1;32m    344\u001b[0m \u001b[38;5;66;03m# as valid frame attributes for *some* frame, but not the frame that\u001b[39;00m\n\u001b[1;32m    345\u001b[0m \u001b[38;5;66;03m# this SkyCoord will have. We keep these attributes as special\u001b[39;00m\n\u001b[1;32m    346\u001b[0m \u001b[38;5;66;03m# skycoord frame attributes:\u001b[39;00m\n\u001b[1;32m    347\u001b[0m \u001b[38;5;28;01mfor\u001b[39;00m attr \u001b[38;5;129;01min\u001b[39;00m skycoord_kwargs:\n\u001b[1;32m    348\u001b[0m     \u001b[38;5;66;03m# Setting it will also validate it.\u001b[39;00m\n",
      "File \u001b[0;32m/opt/anaconda3/envs/Km3Kit/lib/python3.12/site-packages/astropy/coordinates/sky_coordinate_parsers.py:312\u001b[0m, in \u001b[0;36m_parse_coordinate_data\u001b[0;34m(frame, args, kwargs)\u001b[0m\n\u001b[1;32m    308\u001b[0m     \u001b[38;5;28;01mfor\u001b[39;00m arg, frame_attr_name, repr_attr_name, unit \u001b[38;5;129;01min\u001b[39;00m \u001b[38;5;28mzip\u001b[39m(\n\u001b[1;32m    309\u001b[0m         args, frame_attr_names, repr_attr_names, units\n\u001b[1;32m    310\u001b[0m     ):\n\u001b[1;32m    311\u001b[0m         attr_class \u001b[38;5;241m=\u001b[39m frame\u001b[38;5;241m.\u001b[39mrepresentation_type\u001b[38;5;241m.\u001b[39mattr_classes[repr_attr_name]\n\u001b[0;32m--> 312\u001b[0m         _components[frame_attr_name] \u001b[38;5;241m=\u001b[39m attr_class(arg, unit\u001b[38;5;241m=\u001b[39munit)\n\u001b[1;32m    314\u001b[0m \u001b[38;5;28;01melse\u001b[39;00m:\n\u001b[1;32m    315\u001b[0m     \u001b[38;5;28;01mraise\u001b[39;00m \u001b[38;5;167;01mValueError\u001b[39;00m(\n\u001b[1;32m    316\u001b[0m         \u001b[38;5;124mf\u001b[39m\u001b[38;5;124m\"\u001b[39m\u001b[38;5;124mMust supply no more than three positional arguments, got \u001b[39m\u001b[38;5;132;01m{\u001b[39;00m\u001b[38;5;28mlen\u001b[39m(args)\u001b[38;5;132;01m}\u001b[39;00m\u001b[38;5;124m\"\u001b[39m\n\u001b[1;32m    317\u001b[0m     )\n",
      "File \u001b[0;32m/opt/anaconda3/envs/Km3Kit/lib/python3.12/site-packages/astropy/coordinates/angles/core.py:586\u001b[0m, in \u001b[0;36mLatitude.__new__\u001b[0;34m(cls, angle, unit, **kwargs)\u001b[0m\n\u001b[1;32m    584\u001b[0m     \u001b[38;5;28;01mraise\u001b[39;00m \u001b[38;5;167;01mTypeError\u001b[39;00m(\u001b[38;5;124m\"\u001b[39m\u001b[38;5;124mA Latitude angle cannot be created from a Longitude angle\u001b[39m\u001b[38;5;124m\"\u001b[39m)\n\u001b[1;32m    585\u001b[0m \u001b[38;5;28mself\u001b[39m \u001b[38;5;241m=\u001b[39m \u001b[38;5;28msuper\u001b[39m()\u001b[38;5;241m.\u001b[39m\u001b[38;5;21m__new__\u001b[39m(\u001b[38;5;28mcls\u001b[39m, angle, unit\u001b[38;5;241m=\u001b[39munit, \u001b[38;5;241m*\u001b[39m\u001b[38;5;241m*\u001b[39mkwargs)\n\u001b[0;32m--> 586\u001b[0m \u001b[38;5;28mself\u001b[39m\u001b[38;5;241m.\u001b[39m_validate_angles()\n\u001b[1;32m    587\u001b[0m \u001b[38;5;28;01mreturn\u001b[39;00m \u001b[38;5;28mself\u001b[39m\n",
      "File \u001b[0;32m/opt/anaconda3/envs/Km3Kit/lib/python3.12/site-packages/astropy/coordinates/angles/core.py:618\u001b[0m, in \u001b[0;36mLatitude._validate_angles\u001b[0;34m(self, angles)\u001b[0m\n\u001b[1;32m    616\u001b[0m invalid_angles \u001b[38;5;241m=\u001b[39m np\u001b[38;5;241m.\u001b[39many(angles_view \u001b[38;5;241m<\u001b[39m \u001b[38;5;241m-\u001b[39mlimit) \u001b[38;5;129;01mor\u001b[39;00m np\u001b[38;5;241m.\u001b[39many(angles_view \u001b[38;5;241m>\u001b[39m limit)\n\u001b[1;32m    617\u001b[0m \u001b[38;5;28;01mif\u001b[39;00m invalid_angles:\n\u001b[0;32m--> 618\u001b[0m     \u001b[38;5;28;01mraise\u001b[39;00m \u001b[38;5;167;01mValueError\u001b[39;00m(\n\u001b[1;32m    619\u001b[0m         \u001b[38;5;124m\"\u001b[39m\u001b[38;5;124mLatitude angle(s) must be within -90 deg <= angle <= 90 deg, \u001b[39m\u001b[38;5;124m\"\u001b[39m\n\u001b[1;32m    620\u001b[0m         \u001b[38;5;124mf\u001b[39m\u001b[38;5;124m\"\u001b[39m\u001b[38;5;124mgot \u001b[39m\u001b[38;5;132;01m{\u001b[39;00mangles\u001b[38;5;241m.\u001b[39mto(u\u001b[38;5;241m.\u001b[39mdegree)\u001b[38;5;132;01m}\u001b[39;00m\u001b[38;5;124m\"\u001b[39m\n\u001b[1;32m    621\u001b[0m     )\n",
      "\u001b[0;31mValueError\u001b[0m: Latitude angle(s) must be within -90 deg <= angle <= 90 deg, got [-5.7238484e+04 -5.7238484e+04 -5.7238484e+04 ...  3.9285011e+01\n -3.4922657e+00 -5.7238484e+04] deg"
     ]
    }
   ],
   "source": [
    "events_Arca21.plot_image()"
   ]
  },
  {
   "cell_type": "markdown",
   "metadata": {},
   "source": [
    "In addition `EventList` provides convenience methods to filter the event lists. One possible use case is to find the highest energy event within a radius of 0.5 deg around the vela position:"
   ]
  },
  {
   "cell_type": "code",
   "execution_count": null,
   "metadata": {},
   "outputs": [],
   "source": [
    "# select all events within a radius of 0.5 deg around center\n",
    "from regions import CircleSkyRegion\n",
    "\n",
    "center = SkyCoord(\"0d\", \"0d\", frame=\"galactic\")\n",
    "region = CircleSkyRegion(center, radius=0.5 * u.deg)\n",
    "events_gc_Arca21 = events_Arca21.select_region(region)\n",
    "\n",
    "# sort events by energy\n",
    "events_gc_Arca21.table.sort(\"ENERGY\")\n",
    "\n",
    "# and show highest energy photon\n",
    "events_gc_Arca21.energy[-1].to(\"GeV\")"
   ]
  },
  {
   "cell_type": "markdown",
   "metadata": {},
   "source": [
    "## 2. Maps\n",
    "\n",
    "The [gammapy.maps]() sub package contains classes to work with sky images and cubes."
   ]
  },
  {
   "cell_type": "code",
   "execution_count": null,
   "metadata": {},
   "outputs": [],
   "source": [
    "from gammapy.maps import Map\n",
    "\n",
    "gc_Arca21 = Map.create(\n",
    "    width=(20 * u.deg, 10 * u.deg),\n",
    "    skydir=center,\n",
    "    proj=\"CAR\",\n",
    "    binsz=0.05 *u.deg,\n",
    "    map_type=\"wcs\",\n",
    "    frame=\"galactic\"\n",
    ")"
   ]
  },
  {
   "cell_type": "markdown",
   "metadata": {},
   "source": [
    "The image is a `~gammapy.maps.WcsNDMap` object:"
   ]
  },
  {
   "cell_type": "code",
   "execution_count": null,
   "metadata": {},
   "outputs": [],
   "source": [
    "gc_Arca21"
   ]
  },
  {
   "cell_type": "markdown",
   "metadata": {},
   "source": [
    "The shape of the image is 400 x 200 pixel and it is defined using a cartesian projection in galactic coordinates.\n",
    "\n",
    "The ``geom`` attribute is a `~gammapy.maps.WcsGeom` object:"
   ]
  },
  {
   "cell_type": "code",
   "execution_count": null,
   "metadata": {},
   "outputs": [],
   "source": [
    "print(gc_Arca21.geom)"
   ]
  },
  {
   "cell_type": "markdown",
   "metadata": {},
   "source": [
    "Now we can fill the events in the map and plot it:"
   ]
  },
  {
   "cell_type": "code",
   "execution_count": null,
   "metadata": {},
   "outputs": [],
   "source": [
    "gc_Arca21.fill_events(events_Arca21)\n",
    "gc_Arca21.plot(stretch=\"sqrt\", cmap=\"inferno\");"
   ]
  },
  {
   "cell_type": "markdown",
   "metadata": {},
   "source": [
    "The ``plot`` method basically calls [plt.imshow](http://matplotlib.org/api/pyplot_api.html#matplotlib.pyplot.imshow), passing the `gc_Arca21.data` attribute but in addition handles axis with world coordinates using [astropy.visualization.wcsaxes](https://docs.astropy.org/en/stable/visualization/wcsaxes/) and defines some defaults for nicer plots (e.g. the colormap 'afmhot').\n",
    "\n",
    "Now we can also take a look at the `.data` attribute: "
   ]
  },
  {
   "cell_type": "code",
   "execution_count": null,
   "metadata": {},
   "outputs": [],
   "source": [
    "gc_Arca21.data"
   ]
  },
  {
   "cell_type": "markdown",
   "metadata": {},
   "source": [
    "That looks familiar! It just an *ordinary* 2 dimensional numpy array,  which means you can apply any known numpy method to it:"
   ]
  },
  {
   "cell_type": "code",
   "execution_count": null,
   "metadata": {},
   "outputs": [],
   "source": [
    "print(f\"Total number of counts in the image: {gc_Arca21.data.sum():.0f}\")"
   ]
  },
  {
   "cell_type": "code",
   "execution_count": null,
   "metadata": {},
   "outputs": [],
   "source": [
    "from gammapy.maps import MapAxis"
   ]
  },
  {
   "cell_type": "code",
   "execution_count": null,
   "metadata": {},
   "outputs": [],
   "source": [
    "energy_axis = MapAxis.from_energy_bounds(\n",
    "    energy_min=\"10 GeV\", energy_max=\"2 TeV\", nbin=5\n",
    ")"
   ]
  },
  {
   "cell_type": "code",
   "execution_count": null,
   "metadata": {},
   "outputs": [],
   "source": [
    "print(energy_axis)"
   ]
  },
  {
   "cell_type": "code",
   "execution_count": null,
   "metadata": {},
   "outputs": [],
   "source": [
    "gc_Arca21_cube = Map.create(\n",
    "    width=(20 * u.deg, 10 * u.deg),\n",
    "    skydir=center,\n",
    "    proj=\"CAR\",\n",
    "    binsz=0.05 *u.deg,\n",
    "    map_type=\"wcs\",\n",
    "    frame=\"galactic\",\n",
    "    axes=[energy_axis]\n",
    ")"
   ]
  },
  {
   "cell_type": "code",
   "execution_count": null,
   "metadata": {},
   "outputs": [],
   "source": [
    "print(gc_Arca21_cube)"
   ]
  },
  {
   "cell_type": "code",
   "execution_count": null,
   "metadata": {},
   "outputs": [],
   "source": [
    "gc_Arca21_cube.fill_events(events_Arca21)"
   ]
  },
  {
   "cell_type": "markdown",
   "metadata": {},
   "source": [
    "To make the structures in the image more visible we will smooth the data using a Gaussian kernel."
   ]
  },
  {
   "cell_type": "code",
   "execution_count": null,
   "metadata": {},
   "outputs": [],
   "source": [
    "gc_Arca21_cube_smoothed = gc_Arca21_cube.smooth(\n",
    "    kernel=\"gauss\", width=0.1 * u.deg\n",
    ")"
   ]
  },
  {
   "cell_type": "markdown",
   "metadata": {},
   "source": [
    "To visualise the data cube we can use interactive plotting:"
   ]
  },
  {
   "cell_type": "code",
   "execution_count": null,
   "metadata": {},
   "outputs": [],
   "source": [
    "gc_Arca21_cube_smoothed.plot_interactive(cmap=\"inferno\")"
   ]
  },
  {
   "cell_type": "markdown",
   "metadata": {},
   "source": [
    "Or plot the image in energy bands as a grid:"
   ]
  },
  {
   "cell_type": "code",
   "execution_count": 60,
   "metadata": {},
   "outputs": [],
   "source": [
    "gc_Arca21_cube_smoothed.plot_grid(\n",
    "    ncols=3, figsize=(12, 5), cmap=\"inferno\", stretch=\"sqrt\"\n",
    ");"
   ]
  },
  {
   "cell_type": "markdown",
   "metadata": {},
   "source": [
    "You can also do a rectangular cutout of a certain region in the image:"
   ]
  },
  {
   "cell_type": "code",
   "execution_count": 61,
   "metadata": {},
   "outputs": [
    {
     "data": {
      "application/vnd.jupyter.widget-view+json": {
       "model_id": "d52b7f92ec464691aa77ff2f9e3e18a1",
       "version_major": 2,
       "version_minor": 0
      },
      "text/plain": [
       "interactive(children=(SelectionSlider(continuous_update=False, description='Select energy:', layout=Layout(wid…"
      ]
     },
     "metadata": {},
     "output_type": "display_data"
    }
   ],
   "source": [
    "# define center and size of the cutout region\n",
    "center = SkyCoord(0, 0, unit=\"deg\", frame=\"galactic\")\n",
    "gc_Arca21_cutout = gc_Arca21_cube_smoothed.cutout(center, 9 * u.deg)\n",
    "gc_Arca21_cutout.plot_interactive(stretch=\"sqrt\", cmap=\"inferno\");"
   ]
  },
  {
   "cell_type": "markdown",
   "metadata": {},
   "source": [
    "For a more detailed introduction to `gammapy.maps`, take a look a the [maps.ipynb](https://docs.gammapy.org/0.18.2/tutorials/maps.html) notebook."
   ]
  },
  {
   "cell_type": "markdown",
   "metadata": {},
   "source": [
    "## 3. Source catalogs\n",
    "\n",
    "Gammapy provides a convenient interface to access and work with catalog based data. \n",
    "\n",
    "Let's start with importing the 3FHL catalog object from the `~gammapy.catalog` submodule:"
   ]
  },
  {
   "cell_type": "code",
   "execution_count": 62,
   "metadata": {},
   "outputs": [],
   "source": [
    "from gammapy.catalog import SourceCatalog3FHL"
   ]
  },
  {
   "cell_type": "markdown",
   "metadata": {},
   "source": [
    "First we initialize the Fermi-LAT 3FHL catalog and directly take a look at the `.table` attribute:"
   ]
  },
  {
   "cell_type": "code",
   "execution_count": 63,
   "metadata": {},
   "outputs": [
    {
     "data": {
      "text/html": [
       "<div><i>Table length=1556</i>\n",
       "<table id=\"table5859442416\" class=\"table-striped table-bordered table-condensed\">\n",
       "<thead><tr><th>Source_Name</th><th>RAJ2000</th><th>DEJ2000</th><th>GLON</th><th>GLAT</th><th>Conf_95_SemiMajor</th><th>Conf_95_SemiMinor</th><th>Conf_95_PosAng</th><th>ROI_num</th><th>Signif_Avg</th><th>Pivot_Energy</th><th>Flux_Density</th><th>Unc_Flux_Density</th><th>Flux</th><th>Unc_Flux</th><th>Energy_Flux</th><th>Unc_Energy_Flux</th><th>Signif_Curve</th><th>SpectrumType</th><th>Spectral_Index</th><th>Unc_Spectral_Index</th><th>beta</th><th>Unc_beta</th><th>PowerLaw_Index</th><th>Unc_PowerLaw_Index</th><th>Flux_Band</th><th>Unc_Flux_Band</th><th>nuFnu</th><th>Sqrt_TS_Band</th><th>Npred</th><th>HEP_Energy</th><th>HEP_Prob</th><th>Variability_BayesBlocks</th><th>Extended_Source_Name</th><th>ASSOC_GAM</th><th>TEVCAT_FLAG</th><th>ASSOC_TEV</th><th>CLASS</th><th>ASSOC1</th><th>ASSOC2</th><th>ASSOC_PROB_BAY</th><th>ASSOC_PROB_LR</th><th>Redshift</th><th>NuPeak_obs</th></tr></thead>\n",
       "<thead><tr><th></th><th>deg</th><th>deg</th><th>deg</th><th>deg</th><th>deg</th><th>deg</th><th>deg</th><th></th><th></th><th>GeV</th><th>1 / (GeV s cm2)</th><th>1 / (GeV s cm2)</th><th>1 / (s cm2)</th><th>1 / (s cm2)</th><th>erg / (s cm2)</th><th>erg / (s cm2)</th><th></th><th></th><th></th><th></th><th></th><th></th><th></th><th></th><th>1 / (s cm2)</th><th>1 / (s cm2)</th><th>erg / (s cm2)</th><th></th><th></th><th>GeV</th><th></th><th></th><th></th><th></th><th></th><th></th><th></th><th></th><th></th><th></th><th></th><th></th><th>Hz</th></tr></thead>\n",
       "<thead><tr><th>bytes18</th><th>float32</th><th>float32</th><th>float32</th><th>float32</th><th>float32</th><th>float32</th><th>float32</th><th>int16</th><th>float32</th><th>float32</th><th>float32</th><th>float32</th><th>float32</th><th>float32</th><th>float32</th><th>float32</th><th>float32</th><th>bytes11</th><th>float32</th><th>float32</th><th>float32</th><th>float32</th><th>float32</th><th>float32</th><th>float32[5]</th><th>float32[5,2]</th><th>float32[5]</th><th>float32[5]</th><th>float32</th><th>float32</th><th>float32</th><th>int16</th><th>bytes18</th><th>bytes18</th><th>bytes1</th><th>bytes21</th><th>bytes7</th><th>bytes26</th><th>bytes26</th><th>float32</th><th>float32</th><th>float32</th><th>float32</th></tr></thead>\n",
       "<tr><td>3FHL J0001.2-0748</td><td>0.3107</td><td>-7.8075</td><td>89.0094</td><td>-67.3118</td><td>0.0424</td><td>0.0424</td><td>--</td><td>64</td><td>5.362</td><td>23.73</td><td>5.3174e-13</td><td>2.0975e-13</td><td>2.9593e-11</td><td>1.1704e-11</td><td>1.6752e-12</td><td>1.0743e-12</td><td>1.02</td><td>PowerLaw</td><td>1.6724</td><td>0.8274</td><td>0.5916</td><td>0.7129</td><td>2.2226</td><td>0.4808</td><td>1.1127661e-11 .. 1.1422301e-22</td><td>-6.0763976e-12 .. 6.529277e-12</td><td>3.533989e-13 .. 1.1789072e-22</td><td>3.1458344 .. 0.0</td><td>7.63</td><td>86.975</td><td>0.9964</td><td>1</td><td></td><td>3FGL J0001.2-0748</td><td>N</td><td></td><td>bll</td><td>PMN J0001-0746</td><td></td><td>0.9974</td><td>0.9721</td><td>--</td><td>306196370000000.0</td></tr>\n",
       "<tr><td>3FHL J0001.9-4155</td><td>0.4849</td><td>-41.9303</td><td>334.1216</td><td>-72.0697</td><td>0.1018</td><td>0.1018</td><td>--</td><td>429</td><td>5.638</td><td>28.42</td><td>5.4253e-13</td><td>1.6839e-13</td><td>4.3230e-11</td><td>1.3428e-11</td><td>3.4900e-12</td><td>1.8276e-12</td><td>0.45</td><td>PowerLaw</td><td>1.7819</td><td>0.4941</td><td>0.1187</td><td>0.2798</td><td>1.9418</td><td>0.3100</td><td>2.1003905e-11 .. 1.9287885e-18</td><td>-8.032091e-12 .. 5.8594097e-12</td><td>6.7452245e-13 .. 2.078675e-18</td><td>4.899907 .. 0.0</td><td>12.51</td><td>266.625</td><td>0.9622</td><td>1</td><td></td><td>3FGL J0002.2-4152</td><td>N</td><td></td><td>bcu</td><td>1RXS J000135.5-415519</td><td></td><td>0.9960</td><td>0.0000</td><td>--</td><td>6309576500000000.0</td></tr>\n",
       "<tr><td>3FHL J0002.1-6728</td><td>0.5283</td><td>-67.4825</td><td>310.0868</td><td>-48.9549</td><td>0.0357</td><td>0.0357</td><td>--</td><td>386</td><td>8.470</td><td>20.82</td><td>1.2062e-12</td><td>3.2106e-13</td><td>5.0093e-11</td><td>1.3349e-11</td><td>2.3058e-12</td><td>9.5580e-13</td><td>1.53</td><td>PowerLaw</td><td>1.8109</td><td>0.6260</td><td>0.7933</td><td>0.5956</td><td>2.4285</td><td>0.3710</td><td>2.4550664e-11 .. 1.9009976e-21</td><td>-8.634195e-12 .. 4.8021903e-12</td><td>7.7340695e-13 .. 1.9026535e-21</td><td>5.900217 .. 0.0</td><td>17.11</td><td>52.152</td><td>0.9988</td><td>1</td><td></td><td>3FGL J0002.0-6722</td><td>N</td><td></td><td>bcu</td><td>SUMSS J000215-672653</td><td></td><td>0.0000</td><td>0.9395</td><td>--</td><td>4466832000000000.0</td></tr>\n",
       "<tr><td>3FHL J0003.3-5248</td><td>0.8300</td><td>-52.8150</td><td>318.9245</td><td>-62.7936</td><td>0.0425</td><td>0.0425</td><td>--</td><td>145</td><td>7.229</td><td>23.66</td><td>7.5065e-13</td><td>2.3102e-13</td><td>4.1560e-11</td><td>1.2839e-11</td><td>2.2874e-12</td><td>1.1145e-12</td><td>1.70</td><td>PowerLaw</td><td>1.6010</td><td>0.5644</td><td>0.9972</td><td>0.1721</td><td>2.2481</td><td>0.3732</td><td>2.0886386e-11 .. 7.5867555e-23</td><td>-8.143967e-12 .. 5.31299e-12</td><td>6.6265456e-13 .. 7.800202e-23</td><td>5.298393 .. 0.0</td><td>13.02</td><td>67.310</td><td>0.9636</td><td>1</td><td></td><td>3FGL J0003.2-5246</td><td>N</td><td></td><td>bcu</td><td>RBS 0006</td><td></td><td>0.9996</td><td>0.9716</td><td>--</td><td>7.079464e+16</td></tr>\n",
       "<tr><td>3FHL J0007.0+7303</td><td>1.7647</td><td>73.0560</td><td>119.6625</td><td>10.4666</td><td>0.0101</td><td>0.0101</td><td>--</td><td>277</td><td>75.265</td><td>12.80</td><td>1.7436e-10</td><td>7.5950e-12</td><td>1.5308e-09</td><td>6.1341e-11</td><td>3.6785e-11</td><td>1.5973e-12</td><td>3.24</td><td>LogParabola</td><td>3.1751</td><td>0.2103</td><td>0.9021</td><td>0.2659</td><td>3.8315</td><td>0.1141</td><td>1.3514667e-09 .. 3.839895e-18</td><td>-5.7581186e-11 .. 4.060418e-12</td><td>4.109739e-11 .. 2.9231144e-18</td><td>71.33829 .. 0.0</td><td>654.15</td><td>60.292</td><td>0.9972</td><td>1</td><td></td><td>3FGL J0007.0+7302</td><td>E</td><td>CTA 1</td><td>PSR</td><td>LAT PSR J0007+7303</td><td></td><td>1.0000</td><td>0.0000</td><td>--</td><td>--</td></tr>\n",
       "<tr><td>3FHL J0007.9+4711</td><td>1.9931</td><td>47.1920</td><td>115.3093</td><td>-15.0354</td><td>0.0196</td><td>0.0196</td><td>--</td><td>302</td><td>17.774</td><td>17.19</td><td>5.9778e-12</td><td>8.7683e-13</td><td>1.5131e-10</td><td>2.2181e-11</td><td>5.1444e-12</td><td>1.0540e-12</td><td>0.56</td><td>PowerLaw</td><td>2.6783</td><td>0.4196</td><td>0.1696</td><td>0.3282</td><td>2.8588</td><td>0.2685</td><td>1.0582407e-10 .. 1.9819723e-16</td><td>-1.7538379e-11 .. 4.823511e-12</td><td>3.278615e-12 .. 1.8668298e-16</td><td>15.209969 .. 0.0</td><td>50.95</td><td>68.152</td><td>0.9759</td><td>1</td><td></td><td>3FGL J0008.0+4713</td><td>N</td><td></td><td>bll</td><td>MG4 J000800+4712</td><td></td><td>1.0000</td><td>0.9873</td><td>0.2800</td><td>2511884200000000.0</td></tr>\n",
       "<tr><td>3FHL J0008.4-2339</td><td>2.1243</td><td>-23.6514</td><td>50.2908</td><td>-79.7021</td><td>0.0366</td><td>0.0366</td><td>--</td><td>517</td><td>9.679</td><td>16.96</td><td>3.0610e-12</td><td>7.3475e-13</td><td>7.4602e-11</td><td>1.7896e-11</td><td>2.4733e-12</td><td>8.1716e-13</td><td>0.34</td><td>PowerLaw</td><td>2.7388</td><td>0.7145</td><td>0.1737</td><td>0.5618</td><td>2.9070</td><td>0.4520</td><td>5.804992e-11 .. 1.1117311e-20</td><td>-1.4419374e-11 .. 6.10661e-12</td><td>1.7951775e-12 .. 1.0403958e-20</td><td>9.133706 .. 0.0</td><td>19.83</td><td>71.122</td><td>0.9968</td><td>1</td><td></td><td>3FGL J0008.6-2340</td><td>N</td><td></td><td>bll</td><td>RBS 0016</td><td></td><td>0.9996</td><td>0.9673</td><td>0.1470</td><td>524807800000000.0</td></tr>\n",
       "<tr><td>3FHL J0009.1+0628</td><td>2.2874</td><td>6.4814</td><td>104.4637</td><td>-54.8669</td><td>0.0385</td><td>0.0385</td><td>--</td><td>402</td><td>6.282</td><td>18.92</td><td>1.2691e-12</td><td>4.3696e-13</td><td>4.1597e-11</td><td>1.4317e-11</td><td>1.6903e-12</td><td>8.9372e-13</td><td>0.10</td><td>PowerLaw</td><td>2.5529</td><td>0.8363</td><td>0.0122</td><td>0.4477</td><td>2.5800</td><td>0.5391</td><td>2.4161059e-11 .. 6.6482124e-19</td><td>-9.546595e-12 .. 6.287476e-12</td><td>7.566492e-13 .. 6.5095056e-19</td><td>4.678369 .. 0.0</td><td>10.95</td><td>12.256</td><td>0.9721</td><td>1</td><td></td><td>3FGL J0009.1+0630</td><td>N</td><td></td><td>bll</td><td>CRATES J000903.95+062821.5</td><td></td><td>0.9993</td><td>0.9878</td><td>--</td><td>663742400000000.0</td></tr>\n",
       "<tr><td>3FHL J0009.4+5030</td><td>2.3504</td><td>50.5049</td><td>116.1257</td><td>-11.8105</td><td>0.0176</td><td>0.0176</td><td>--</td><td>302</td><td>22.402</td><td>17.04</td><td>9.8252e-12</td><td>1.3192e-12</td><td>2.2191e-10</td><td>2.6212e-11</td><td>8.7336e-12</td><td>1.2488e-12</td><td>3.15</td><td>LogParabola</td><td>1.4305</td><td>0.3505</td><td>0.7965</td><td>0.3072</td><td>2.3610</td><td>0.1611</td><td>1.16274e-10 .. 9.252794e-17</td><td>-1.8225135e-11 .. 4.417993e-12</td><td>3.8564165e-12 .. 7.0436765e-17</td><td>15.780677 .. 0.0</td><td>78.50</td><td>72.762</td><td>0.9950</td><td>2</td><td></td><td>3FGL J0009.3+5030</td><td>C</td><td></td><td>bll</td><td>NVSS J000922+503028</td><td></td><td>1.0000</td><td>0.9698</td><td>--</td><td>1412536400000000.0</td></tr>\n",
       "<tr><td>...</td><td>...</td><td>...</td><td>...</td><td>...</td><td>...</td><td>...</td><td>...</td><td>...</td><td>...</td><td>...</td><td>...</td><td>...</td><td>...</td><td>...</td><td>...</td><td>...</td><td>...</td><td>...</td><td>...</td><td>...</td><td>...</td><td>...</td><td>...</td><td>...</td><td>...</td><td>...</td><td>...</td><td>...</td><td>...</td><td>...</td><td>...</td><td>...</td><td>...</td><td>...</td><td>...</td><td>...</td><td>...</td><td>...</td><td>...</td><td>...</td><td>...</td><td>...</td><td>...</td></tr>\n",
       "<tr><td>3FHL J2347.9-1630</td><td>356.9978</td><td>-16.5106</td><td>65.5355</td><td>-71.8766</td><td>0.0288</td><td>0.0288</td><td>--</td><td>450</td><td>9.297</td><td>16.28</td><td>3.1279e-12</td><td>8.0896e-13</td><td>6.7585e-11</td><td>1.7478e-11</td><td>2.0267e-12</td><td>6.5608e-13</td><td>0.07</td><td>PowerLaw</td><td>3.1259</td><td>0.7781</td><td>0.0104</td><td>0.5756</td><td>3.1324</td><td>0.5259</td><td>5.2519888e-11 .. 1.0747592e-20</td><td>-1.4230782e-11 .. 6.211813e-12</td><td>1.6103665e-12 .. 9.768252e-21</td><td>8.333468 .. 0.0</td><td>17.55</td><td>50.215</td><td>0.9869</td><td>3</td><td></td><td>3FGL J2348.0-1630</td><td>N</td><td></td><td>fsrq</td><td>PKS 2345-16</td><td></td><td>0.9994</td><td>0.9999</td><td>0.5760</td><td>9332549000000.0</td></tr>\n",
       "<tr><td>3FHL J2350.5-3006</td><td>357.6354</td><td>-30.1070</td><td>16.7759</td><td>-76.3194</td><td>0.0491</td><td>0.0491</td><td>--</td><td>70</td><td>6.497</td><td>21.20</td><td>1.0879e-12</td><td>3.2997e-13</td><td>4.7039e-11</td><td>1.4274e-11</td><td>2.2909e-12</td><td>1.1390e-12</td><td>0.63</td><td>PowerLaw</td><td>2.1012</td><td>0.6173</td><td>0.2880</td><td>0.4870</td><td>2.3678</td><td>0.4234</td><td>2.1939225e-11 .. 4.5892933e-16</td><td>-8.926376e-12 .. 6.097474e-12</td><td>6.927891e-13 .. 4.63469e-16</td><td>4.0536985 .. 0.0</td><td>12.84</td><td>49.286</td><td>0.9644</td><td>1</td><td></td><td>3FGL J2350.4-3004</td><td>N</td><td></td><td>bll</td><td>NVSS J235034-300603</td><td></td><td>0.9998</td><td>0.9218</td><td>0.2237</td><td>3981075200000000.0</td></tr>\n",
       "<tr><td>3FHL J2351.5-7559</td><td>357.8926</td><td>-75.9890</td><td>307.6546</td><td>-40.5855</td><td>0.0650</td><td>0.0650</td><td>--</td><td>55</td><td>6.067</td><td>26.82</td><td>4.9826e-13</td><td>1.6350e-13</td><td>3.5689e-11</td><td>1.1769e-11</td><td>2.3897e-12</td><td>1.2622e-12</td><td>0.61</td><td>PowerLaw</td><td>1.8474</td><td>0.5802</td><td>0.2003</td><td>0.3661</td><td>2.0816</td><td>0.3532</td><td>2.3730832e-11 .. 6.9375605e-17</td><td>-8.570627e-12 .. 4.7928705e-12</td><td>7.578736e-13 .. 7.316245e-17</td><td>5.2754674 .. 0.0</td><td>12.41</td><td>134.721</td><td>0.9892</td><td>1</td><td></td><td>3FGL J2351.9-7601</td><td>N</td><td></td><td>bll</td><td>SUMSS J235115-760012</td><td></td><td>0.0000</td><td>0.9625</td><td>--</td><td>--</td></tr>\n",
       "<tr><td>3FHL J2352.1+1753</td><td>358.0415</td><td>17.8865</td><td>103.5764</td><td>-42.7466</td><td>0.0838</td><td>0.0838</td><td>--</td><td>185</td><td>4.117</td><td>16.97</td><td>9.9227e-13</td><td>4.3475e-13</td><td>2.4254e-11</td><td>1.0640e-11</td><td>7.6327e-13</td><td>4.2356e-13</td><td>0.02</td><td>PowerLaw</td><td>3.0175</td><td>1.2164</td><td>0.0100</td><td>0.8524</td><td>3.0166</td><td>0.8270</td><td>1.5997077e-11 .. 2.9107688e-20</td><td>-7.581037e-12 .. 5.821708e-12</td><td>4.926488e-13 .. 2.6849966e-20</td><td>3.5496242 .. 0.0</td><td>6.73</td><td>43.107</td><td>0.9668</td><td>1</td><td></td><td>3FGL J2352.0+1752</td><td>N</td><td></td><td>bll</td><td>CLASS J2352+1749</td><td></td><td>0.9926</td><td>0.0000</td><td>--</td><td>1737799900000000.0</td></tr>\n",
       "<tr><td>3FHL J2356.2+4035</td><td>359.0746</td><td>40.5985</td><td>111.7521</td><td>-21.0732</td><td>0.0298</td><td>0.0298</td><td>--</td><td>312</td><td>7.625</td><td>29.01</td><td>5.2427e-13</td><td>1.5104e-13</td><td>4.3400e-11</td><td>1.2511e-11</td><td>3.6677e-12</td><td>1.8547e-12</td><td>0.35</td><td>PowerLaw</td><td>2.0233</td><td>0.4242</td><td>-0.0706</td><td>0.1926</td><td>1.9095</td><td>0.2975</td><td>2.5777725e-11 .. 3.110794e-16</td><td>-8.514681e-12 .. 5.4134618e-12</td><td>8.2889175e-13 .. 3.3694582e-16</td><td>6.2127647 .. 0.0</td><td>13.81</td><td>417.861</td><td>0.9119</td><td>1</td><td></td><td>3FGL J2356.0+4037</td><td>N</td><td></td><td>bll</td><td>NVSS J235612+403648</td><td></td><td>0.9998</td><td>0.9199</td><td>0.1310</td><td>6309576500000000.0</td></tr>\n",
       "<tr><td>3FHL J2357.4-1717</td><td>359.3690</td><td>-17.2996</td><td>68.4009</td><td>-74.1285</td><td>0.0327</td><td>0.0327</td><td>--</td><td>450</td><td>6.961</td><td>29.52</td><td>5.4394e-13</td><td>1.7370e-13</td><td>4.6654e-11</td><td>1.4945e-11</td><td>3.7598e-12</td><td>1.9583e-12</td><td>1.11</td><td>PowerLaw</td><td>1.5762</td><td>0.5187</td><td>0.3513</td><td>0.3771</td><td>1.9430</td><td>0.3116</td><td>1.9003682e-11 .. 2.714288e-20</td><td>-8.131149e-12 .. 6.4742196e-12</td><td>6.1025685e-13 .. 2.92465e-20</td><td>4.552822 .. 0.0</td><td>12.30</td><td>146.757</td><td>0.9838</td><td>1</td><td></td><td>3FGL J2357.4-1716</td><td>N</td><td></td><td>bll</td><td>RBS 2066</td><td></td><td>0.9999</td><td>0.9631</td><td>--</td><td>8.912525e+16</td></tr>\n",
       "<tr><td>3FHL J2358.4-1808</td><td>359.6205</td><td>-18.1408</td><td>66.5520</td><td>-74.8501</td><td>0.0511</td><td>0.0511</td><td>--</td><td>450</td><td>6.493</td><td>18.23</td><td>1.6335e-12</td><td>4.9686e-13</td><td>4.8680e-11</td><td>1.4811e-11</td><td>1.7825e-12</td><td>7.6480e-13</td><td>1.83</td><td>PowerLaw</td><td>2.0532</td><td>0.6673</td><td>0.9999</td><td>0.0134</td><td>2.7312</td><td>0.5024</td><td>2.6735683e-11 .. 6.0349635e-21</td><td>-9.960717e-12 .. 6.2551535e-12</td><td>8.323882e-13 .. 5.7844478e-21</td><td>4.3616037 .. 0.0</td><td>12.74</td><td>28.304</td><td>0.9845</td><td>1</td><td></td><td>3FGL J2358.6-1809</td><td>N</td><td></td><td></td><td></td><td></td><td>0.0000</td><td>0.0000</td><td>--</td><td>--</td></tr>\n",
       "<tr><td>3FHL J2358.5+3829</td><td>359.6266</td><td>38.4963</td><td>111.6905</td><td>-23.2173</td><td>0.0584</td><td>0.0584</td><td>--</td><td>312</td><td>5.797</td><td>18.24</td><td>1.4104e-12</td><td>4.4534e-13</td><td>4.2106e-11</td><td>1.3321e-11</td><td>1.7404e-12</td><td>9.8271e-13</td><td>0.44</td><td>PowerLaw</td><td>2.7466</td><td>0.6917</td><td>-0.1329</td><td>0.3013</td><td>2.5576</td><td>0.5781</td><td>2.824428e-11 .. 9.750687e-17</td><td>-9.458818e-12 .. 5.2791343e-12</td><td>8.852925e-13 .. 9.5778846e-17</td><td>5.7128677 .. 0.0</td><td>13.13</td><td>57.301</td><td>0.9782</td><td>1</td><td></td><td>3FGL J2358.5+3827</td><td>N</td><td></td><td>bcu</td><td>B3 2355+382</td><td></td><td>0.0000</td><td>0.9254</td><td>--</td><td>--</td></tr>\n",
       "<tr><td>3FHL J2359.1-3038</td><td>359.7760</td><td>-30.6397</td><td>12.7909</td><td>-78.0268</td><td>0.0231</td><td>0.0231</td><td>--</td><td>70</td><td>11.551</td><td>21.21</td><td>1.8903e-12</td><td>4.1965e-13</td><td>8.1774e-11</td><td>1.8149e-11</td><td>4.2849e-12</td><td>1.6806e-12</td><td>0.08</td><td>PowerLaw</td><td>2.2865</td><td>0.4632</td><td>0.0101</td><td>0.2434</td><td>2.2944</td><td>0.3092</td><td>5.5015617e-11 .. 6.037456e-17</td><td>-1.3604539e-11 .. 8.488618e-12</td><td>1.7422797e-12 .. 6.164239e-17</td><td>9.39347 .. 0.0</td><td>22.41</td><td>111.366</td><td>0.9607</td><td>1</td><td></td><td>3FGL J2359.3-3038</td><td>P</td><td>H 2356-309</td><td>bll</td><td>H 2356-309</td><td></td><td>0.9999</td><td>0.9975</td><td>0.1650</td><td>2.818388e+17</td></tr>\n",
       "<tr><td>3FHL J2359.3-2049</td><td>359.8293</td><td>-20.8256</td><td>58.0522</td><td>-76.5411</td><td>0.0722</td><td>0.0722</td><td>--</td><td>580</td><td>4.638</td><td>19.02</td><td>9.1911e-13</td><td>3.6043e-13</td><td>3.0559e-11</td><td>1.1979e-11</td><td>1.2593e-12</td><td>7.4704e-13</td><td>0.32</td><td>PowerLaw</td><td>2.3402</td><td>0.9445</td><td>0.1851</td><td>0.6600</td><td>2.5615</td><td>0.5838</td><td>2.3253791e-11 .. 8.3778735e-21</td><td>-8.939083e-12 .. 6.2386546e-12</td><td>7.2875863e-13 .. 8.224765e-21</td><td>4.8207045 .. 0.0</td><td>8.06</td><td>64.177</td><td>0.9859</td><td>1</td><td></td><td>3FGL J2359.5-2052</td><td>N</td><td></td><td>bll</td><td>TXS 2356-210</td><td></td><td>0.9894</td><td>0.9906</td><td>0.0960</td><td>4073799600000000.0</td></tr>\n",
       "</table></div>"
      ],
      "text/plain": [
       "<Table length=1556>\n",
       "   Source_Name     RAJ2000  DEJ2000  ... Redshift     NuPeak_obs    \n",
       "                     deg      deg    ...                  Hz        \n",
       "     bytes18       float32  float32  ... float32       float32      \n",
       "------------------ -------- -------- ... -------- ------------------\n",
       "3FHL J0001.2-0748    0.3107  -7.8075 ...       --  306196370000000.0\n",
       "3FHL J0001.9-4155    0.4849 -41.9303 ...       -- 6309576500000000.0\n",
       "3FHL J0002.1-6728    0.5283 -67.4825 ...       -- 4466832000000000.0\n",
       "3FHL J0003.3-5248    0.8300 -52.8150 ...       --       7.079464e+16\n",
       "3FHL J0007.0+7303    1.7647  73.0560 ...       --                 --\n",
       "3FHL J0007.9+4711    1.9931  47.1920 ...   0.2800 2511884200000000.0\n",
       "3FHL J0008.4-2339    2.1243 -23.6514 ...   0.1470  524807800000000.0\n",
       "3FHL J0009.1+0628    2.2874   6.4814 ...       --  663742400000000.0\n",
       "3FHL J0009.4+5030    2.3504  50.5049 ...       -- 1412536400000000.0\n",
       "               ...      ...      ... ...      ...                ...\n",
       "3FHL J2347.9-1630  356.9978 -16.5106 ...   0.5760    9332549000000.0\n",
       "3FHL J2350.5-3006  357.6354 -30.1070 ...   0.2237 3981075200000000.0\n",
       "3FHL J2351.5-7559  357.8926 -75.9890 ...       --                 --\n",
       "3FHL J2352.1+1753  358.0415  17.8865 ...       -- 1737799900000000.0\n",
       "3FHL J2356.2+4035  359.0746  40.5985 ...   0.1310 6309576500000000.0\n",
       "3FHL J2357.4-1717  359.3690 -17.2996 ...       --       8.912525e+16\n",
       "3FHL J2358.4-1808  359.6205 -18.1408 ...       --                 --\n",
       "3FHL J2358.5+3829  359.6266  38.4963 ...       --                 --\n",
       "3FHL J2359.1-3038  359.7760 -30.6397 ...   0.1650       2.818388e+17\n",
       "3FHL J2359.3-2049  359.8293 -20.8256 ...   0.0960 4073799600000000.0"
      ]
     },
     "execution_count": 63,
     "metadata": {},
     "output_type": "execute_result"
    }
   ],
   "source": [
    "fermi_Arca21 = SourceCatalog3FHL(\"data/gll_psch_v13.fit.gz\")\n",
    "fermi_Arca21.table"
   ]
  },
  {
   "cell_type": "markdown",
   "metadata": {},
   "source": [
    "This looks very familiar again. The data is just stored as an [astropy.table.Table](http://docs.astropy.org/en/stable/api/astropy.table.Table.html#astropy.table.Table) object. We have all the methods and attributes of the `Table` object available. E.g. we can sort the underlying table by `Signif_Avg` to find the top 5 most significant sources:\n",
    "\n"
   ]
  },
  {
   "cell_type": "code",
   "execution_count": 64,
   "metadata": {},
   "outputs": [
    {
     "data": {
      "text/html": [
       "<div><i>Table length=5</i>\n",
       "<table id=\"table5860644224\" class=\"table-striped table-bordered table-condensed\">\n",
       "<thead><tr><th>Source_Name</th><th>ASSOC1</th><th>ASSOC2</th><th>CLASS</th><th>Signif_Avg</th></tr></thead>\n",
       "<thead><tr><th>bytes18</th><th>bytes26</th><th>bytes26</th><th>bytes7</th><th>float32</th></tr></thead>\n",
       "<tr><td>3FHL J0534.5+2201</td><td>Crab Nebula</td><td></td><td>PWN</td><td>168.641</td></tr>\n",
       "<tr><td>3FHL J1104.4+3812</td><td>Mkn 421</td><td></td><td>BLL</td><td>144.406</td></tr>\n",
       "<tr><td>3FHL J0835.3-4510</td><td>PSR J0835-4510</td><td>Vela X field</td><td>PSR</td><td>138.801</td></tr>\n",
       "<tr><td>3FHL J0633.9+1746</td><td>PSR J0633+1746</td><td></td><td>PSR</td><td>99.734</td></tr>\n",
       "<tr><td>3FHL J1555.7+1111</td><td>PG 1553+113</td><td></td><td>BLL</td><td>94.411</td></tr>\n",
       "</table></div>"
      ],
      "text/plain": [
       "<Table length=5>\n",
       "   Source_Name               ASSOC1           ...  CLASS  Signif_Avg\n",
       "     bytes18                bytes26           ...  bytes7  float32  \n",
       "------------------ -------------------------- ... ------- ----------\n",
       "3FHL J0534.5+2201  Crab Nebula                ... PWN        168.641\n",
       "3FHL J1104.4+3812  Mkn 421                    ... BLL        144.406\n",
       "3FHL J0835.3-4510  PSR J0835-4510             ... PSR        138.801\n",
       "3FHL J0633.9+1746  PSR J0633+1746             ... PSR         99.734\n",
       "3FHL J1555.7+1111  PG 1553+113                ... BLL         94.411"
      ]
     },
     "execution_count": 64,
     "metadata": {},
     "output_type": "execute_result"
    }
   ],
   "source": [
    "# sort table by significance\n",
    "fermi_Arca21.table.sort(\"Signif_Avg\")\n",
    "\n",
    "# invert the order to find the highest values and take the top 5\n",
    "top_five_TS_Arca21 = fermi_Arca21.table[::-1][:5]\n",
    "\n",
    "# print the top five significant sources with association and source class\n",
    "top_five_TS_Arca21[[\"Source_Name\", \"ASSOC1\", \"ASSOC2\", \"CLASS\", \"Signif_Avg\"]]"
   ]
  },
  {
   "cell_type": "markdown",
   "metadata": {},
   "source": [
    "If you are interested in the data of an individual source you can access the information from catalog using the name of the source or any alias source name that is defined in the catalog:"
   ]
  },
  {
   "cell_type": "code",
   "execution_count": 65,
   "metadata": {},
   "outputs": [
    {
     "name": "stdout",
     "output_type": "stream",
     "text": [
      "144.40611\n"
     ]
    }
   ],
   "source": [
    "mkn_421_Arca21 = fermi_Arca21[\"3FHL J1104.4+3812\"]\n",
    "\n",
    "# or use any alias source name that is defined in the catalog\n",
    "mkn_421_Arca21 = fermi_Arca21[\"Mkn 421\"]\n",
    "print(mkn_421_Arca21.data[\"Signif_Avg\"])"
   ]
  },
  {
   "cell_type": "markdown",
   "metadata": {},
   "source": [
    "Now we can plot the sources on the image created above:"
   ]
  },
  {
   "cell_type": "code",
   "execution_count": 66,
   "metadata": {},
   "outputs": [
    {
     "ename": "TypeError",
     "evalue": "cannot unpack non-iterable WCSAxes object",
     "output_type": "error",
     "traceback": [
      "\u001b[0;31m---------------------------------------------------------------------------\u001b[0m",
      "\u001b[0;31mTypeError\u001b[0m                                 Traceback (most recent call last)",
      "Cell \u001b[0;32mIn[66], line 1\u001b[0m\n\u001b[0;32m----> 1\u001b[0m _, ax, _ \u001b[38;5;241m=\u001b[39m gc_Arca21\u001b[38;5;241m.\u001b[39msmooth(\u001b[38;5;124m\"\u001b[39m\u001b[38;5;124m0.1 deg\u001b[39m\u001b[38;5;124m\"\u001b[39m)\u001b[38;5;241m.\u001b[39mplot(\n\u001b[1;32m      2\u001b[0m     stretch\u001b[38;5;241m=\u001b[39m\u001b[38;5;124m\"\u001b[39m\u001b[38;5;124msqrt\u001b[39m\u001b[38;5;124m\"\u001b[39m, cmap\u001b[38;5;241m=\u001b[39m\u001b[38;5;124m\"\u001b[39m\u001b[38;5;124minferno\u001b[39m\u001b[38;5;124m\"\u001b[39m\n\u001b[1;32m      3\u001b[0m );\n\u001b[1;32m      5\u001b[0m positions \u001b[38;5;241m=\u001b[39m fermi_Arca21\u001b[38;5;241m.\u001b[39mpositions\n\u001b[1;32m      6\u001b[0m ax\u001b[38;5;241m.\u001b[39mscatter(\n\u001b[1;32m      7\u001b[0m     positions\u001b[38;5;241m.\u001b[39mdata\u001b[38;5;241m.\u001b[39mlon\u001b[38;5;241m.\u001b[39mdeg,\n\u001b[1;32m      8\u001b[0m     positions\u001b[38;5;241m.\u001b[39mdata\u001b[38;5;241m.\u001b[39mlat\u001b[38;5;241m.\u001b[39mdeg,\n\u001b[0;32m   (...)\u001b[0m\n\u001b[1;32m     11\u001b[0m     marker\u001b[38;5;241m=\u001b[39m\u001b[38;5;124m\"\u001b[39m\u001b[38;5;124mx\u001b[39m\u001b[38;5;124m\"\u001b[39m\n\u001b[1;32m     12\u001b[0m )\n",
      "\u001b[0;31mTypeError\u001b[0m: cannot unpack non-iterable WCSAxes object"
     ]
    }
   ],
   "source": [
    "_, ax, _ = gc_Arca21.smooth(\"0.1 deg\").plot(\n",
    "    stretch=\"sqrt\", cmap=\"inferno\"\n",
    ");\n",
    "\n",
    "positions = fermi_Arca21.positions\n",
    "ax.scatter(\n",
    "    positions.data.lon.deg,\n",
    "    positions.data.lat.deg,\n",
    "    transform=ax.get_transform(\"icrs\"),\n",
    "    color=\"w\",\n",
    "    marker=\"x\"\n",
    ")"
   ]
  },
  {
   "cell_type": "markdown",
   "metadata": {},
   "source": [
    "## 4. Spectral Models and Flux points\n",
    "\n",
    "In the previous section we learned how access basic data from individual sources in the catalog. Now we will go one step further and explore the full spectral information of sources.\n",
    "\n",
    "As a first example we will start with the Crab Nebula:"
   ]
  },
  {
   "cell_type": "code",
   "execution_count": null,
   "metadata": {},
   "outputs": [],
   "source": [
    "crab_Arca21 = fermi_Arca21[\"Crab Nebula\"]\n",
    "crab_Arca21_model = crab_Arca21.sky_model()\n",
    "print(crab_Arca21_model)"
   ]
  },
  {
   "cell_type": "code",
   "execution_count": null,
   "metadata": {},
   "outputs": [
    {
     "ename": "NameError",
     "evalue": "name 'crab_3fhl_model' is not defined",
     "output_type": "error",
     "traceback": [
      "\u001b[0;31m---------------------------------------------------------------------------\u001b[0m",
      "\u001b[0;31mNameError\u001b[0m                                 Traceback (most recent call last)",
      "Cell \u001b[0;32mIn[34], line 1\u001b[0m\n\u001b[0;32m----> 1\u001b[0m crab_3fhl_spec \u001b[38;5;241m=\u001b[39m crab_3fhl_model\u001b[38;5;241m.\u001b[39mspectral_model\n",
      "\u001b[0;31mNameError\u001b[0m: name 'crab_3fhl_model' is not defined"
     ]
    }
   ],
   "source": [
    "crab_Arca21_spec = crab_Arca21_model.spectral_model"
   ]
  },
  {
   "cell_type": "markdown",
   "metadata": {},
   "source": [
    "The `crab_Arca21.spectral_model` is an instance of the `PowerLaw2SpectralModel` model, with the parameter values and errors taken from the 3FHL catalog. \n",
    "\n",
    "Let's plot the spectral model in the energy range between 10 GeV and 2000 GeV:"
   ]
  },
  {
   "cell_type": "code",
   "execution_count": null,
   "metadata": {},
   "outputs": [
    {
     "ename": "NameError",
     "evalue": "name 'crab_3fhl_spec' is not defined",
     "output_type": "error",
     "traceback": [
      "\u001b[0;31m---------------------------------------------------------------------------\u001b[0m",
      "\u001b[0;31mNameError\u001b[0m                                 Traceback (most recent call last)",
      "Cell \u001b[0;32mIn[35], line 1\u001b[0m\n\u001b[0;32m----> 1\u001b[0m ax_crab_3fhl \u001b[38;5;241m=\u001b[39m crab_3fhl_spec\u001b[38;5;241m.\u001b[39mplot(\n\u001b[1;32m      2\u001b[0m     energy_range\u001b[38;5;241m=\u001b[39m[\u001b[38;5;241m10\u001b[39m, \u001b[38;5;241m2000\u001b[39m] \u001b[38;5;241m*\u001b[39m u\u001b[38;5;241m.\u001b[39mGeV,\n\u001b[1;32m      3\u001b[0m )\n",
      "\u001b[0;31mNameError\u001b[0m: name 'crab_3fhl_spec' is not defined"
     ]
    }
   ],
   "source": [
    "ax_crab_Arca21 = crab_Arca21_spec.plot(\n",
    "    energy_range=[10, 2000] * u.GeV,\n",
    ")"
   ]
  },
  {
   "cell_type": "markdown",
   "metadata": {},
   "source": [
    "We assign the return axes object to variable called `ax_crab_Arca21`, because we will re-use it later to plot the flux points on top.\n",
    "\n",
    "To compute the differential flux at 100 GeV we can simply call the model like normal Python function and convert to the desired units:"
   ]
  },
  {
   "cell_type": "code",
   "execution_count": null,
   "metadata": {},
   "outputs": [],
   "source": [
    "crab_Arca21_spec(100 * u.GeV).to(\"cm-2 s-1 GeV-1\")"
   ]
  },
  {
   "cell_type": "markdown",
   "metadata": {},
   "source": [
    "Next we can compute the integral flux of the Crab between 10 GeV and 2000 GeV:"
   ]
  },
  {
   "cell_type": "code",
   "execution_count": null,
   "metadata": {},
   "outputs": [],
   "source": [
    "crab_Arca21_spec.integral(\n",
    "    energy_min=10 * u.GeV, energy_max=2 * u.TeV\n",
    ").to(\"cm-2 s-1\")"
   ]
  },
  {
   "cell_type": "markdown",
   "metadata": {},
   "source": [
    "We can easily convince ourself, that it corresponds to the value given in the Fermi-LAT 3FHL catalog:"
   ]
  },
  {
   "cell_type": "code",
   "execution_count": null,
   "metadata": {},
   "outputs": [],
   "source": [
    "crab_Arca21.data[\"Flux\"]"
   ]
  },
  {
   "cell_type": "markdown",
   "metadata": {},
   "source": [
    "In addition we can compute the energy flux between 10 GeV and 2000 GeV:"
   ]
  },
  {
   "cell_type": "code",
   "execution_count": null,
   "metadata": {},
   "outputs": [],
   "source": [
    "crab_Arca21_spec.energy_flux(\n",
    "    energy_min=10 * u.GeV, energy_max=2000 * u.GeV\n",
    ").to(\"erg cm-2 s-1\")"
   ]
  },
  {
   "cell_type": "markdown",
   "metadata": {},
   "source": [
    "Next we will access the flux points data of the Crab:"
   ]
  },
  {
   "cell_type": "code",
   "execution_count": null,
   "metadata": {},
   "outputs": [],
   "source": [
    "print(crab_Arca21.flux_points)"
   ]
  },
  {
   "cell_type": "markdown",
   "metadata": {},
   "source": [
    "If you want to learn more about the different flux point formats you can read the specification [here](https://gamma-astro-data-formats.readthedocs.io/en/latest/spectra/flux_points/index.html).\n",
    "\n",
    "No we can check again the underlying astropy data structure by accessing the `.table` attribute:"
   ]
  },
  {
   "cell_type": "code",
   "execution_count": null,
   "metadata": {},
   "outputs": [],
   "source": [
    "crab_Arca21.flux_points.table"
   ]
  },
  {
   "cell_type": "markdown",
   "metadata": {},
   "source": [
    "Finally let's combine spectral model and flux points in a single plot and scale with `energy_power=2` to obtain the spectral energy distribution:"
   ]
  },
  {
   "cell_type": "code",
   "execution_count": null,
   "metadata": {},
   "outputs": [],
   "source": [
    "ax = crab_Arca21_spec.plot(\n",
    "    energy_range=[10, 2000] * u.GeV, energy_power=2\n",
    ")\n",
    "\n",
    "ax = crab_Arca21_spec.plot_error(\n",
    "    energy_range=[10, 2000] * u.GeV,\n",
    "    energy_power=2,\n",
    "    facecolor=\"tab:blue\"\n",
    ")\n",
    "\n",
    "fp = crab_Arca21.flux_points.to_sed_type(\"dnde\")\n",
    "fp.plot(ax=ax, energy_power=2);"
   ]
  }
 ],
 "metadata": {
  "file_extension": ".py",
  "kernelspec": {
   "display_name": "Python 3 (ipykernel)",
   "language": "python",
   "name": "python3"
  },
  "language_info": {
   "codemirror_mode": {
    "name": "ipython",
    "version": 3
   },
   "file_extension": ".py",
   "mimetype": "text/x-python",
   "name": "python",
   "nbconvert_exporter": "python",
   "pygments_lexer": "ipython3",
   "version": "3.12.2"
  },
  "mimetype": "text/x-python",
  "name": "python",
  "npconvert_exporter": "python",
  "pygments_lexer": "ipython3",
  "version": 3
 },
 "nbformat": 4,
 "nbformat_minor": 4
}
