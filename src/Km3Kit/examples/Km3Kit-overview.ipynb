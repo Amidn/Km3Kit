{
 "cells": [
  {
   "cell_type": "markdown",
   "metadata": {},
   "source": [
    "## Setup"
   ]
  },
  {
   "cell_type": "markdown",
   "metadata": {},
   "source": [
    "#  Overview\n",
    "\n"
   ]
  },
  {
   "cell_type": "code",
   "execution_count": 1,
   "metadata": {},
   "outputs": [],
   "source": [
    "%matplotlib inline\n",
    "import matplotlib.pyplot as plt\n",
    "from matplotlib import MatplotlibDeprecationWarning\n",
    "\n",
    "# this in general not advised, but for this specific notebook\n",
    "# I'd like to ignore some deprecation warnings by matplotlib\n",
    "import warnings\n",
    "warnings.filterwarnings(\n",
    "    \"ignore\", category=MatplotlibDeprecationWarning\n",
    ")"
   ]
  },
  {
   "cell_type": "code",
   "execution_count": 2,
   "metadata": {},
   "outputs": [],
   "source": [
    "import astropy.units as u\n",
    "from astropy.coordinates import SkyCoord"
   ]
  },
  {
   "cell_type": "markdown",
   "metadata": {},
   "source": [
    "## 1. Event Lists\n",
    "\n",
    "Almost any high-level gamma-ray data analysis starts with the raw measured counts data, which is stored in event lists. In Gammapy event lists are represented by the `EventList` class, which can be imported like so:"
   ]
  },
  {
   "cell_type": "code",
   "execution_count": 3,
   "metadata": {},
   "outputs": [],
   "source": [
    "from gammapy.data import EventList"
   ]
  },
  {
   "cell_type": "markdown",
   "metadata": {},
   "source": [
    "Let's created one by reading the Fermi-LAT 3FHL event list:"
   ]
  },
  {
   "cell_type": "code",
   "execution_count": 7,
   "metadata": {},
   "outputs": [
    {
     "ename": "KeyError",
     "evalue": "\"Extension 'EVENTS' not found.\"",
     "output_type": "error",
     "traceback": [
      "\u001b[0;31m---------------------------------------------------------------------------\u001b[0m",
      "\u001b[0;31mKeyError\u001b[0m                                  Traceback (most recent call last)",
      "Cell \u001b[0;32mIn[7], line 1\u001b[0m\n\u001b[0;32m----> 1\u001b[0m events_3fhl \u001b[38;5;241m=\u001b[39m EventList\u001b[38;5;241m.\u001b[39mread(\u001b[38;5;124m\"\u001b[39m\u001b[38;5;124mdata/aerie-apps_bin1-9__allsky_1024_i2.5_r0.0_p1.0_fc2Flux_negSigMap.fits\u001b[39m\u001b[38;5;124m\"\u001b[39m)\n",
      "File \u001b[0;32m/opt/anaconda3/envs/Km3Kit/lib/python3.12/site-packages/gammapy/data/event_list.py:122\u001b[0m, in \u001b[0;36mEventList.read\u001b[0;34m(cls, filename, hdu, checksum, **kwargs)\u001b[0m\n\u001b[1;32m    119\u001b[0m filename \u001b[38;5;241m=\u001b[39m make_path(filename)\n\u001b[1;32m    121\u001b[0m \u001b[38;5;28;01mwith\u001b[39;00m fits\u001b[38;5;241m.\u001b[39mopen(filename) \u001b[38;5;28;01mas\u001b[39;00m hdulist:\n\u001b[0;32m--> 122\u001b[0m     events_hdu \u001b[38;5;241m=\u001b[39m hdulist[hdu]\n\u001b[1;32m    123\u001b[0m     \u001b[38;5;28;01mif\u001b[39;00m checksum:\n\u001b[1;32m    124\u001b[0m         \u001b[38;5;28;01mif\u001b[39;00m events_hdu\u001b[38;5;241m.\u001b[39mverify_checksum() \u001b[38;5;241m!=\u001b[39m \u001b[38;5;241m1\u001b[39m:\n",
      "File \u001b[0;32m/opt/anaconda3/envs/Km3Kit/lib/python3.12/site-packages/astropy/io/fits/hdu/hdulist.py:390\u001b[0m, in \u001b[0;36mHDUList.__getitem__\u001b[0;34m(self, key)\u001b[0m\n\u001b[1;32m    385\u001b[0m \u001b[38;5;66;03m# Originally this used recursion, but hypothetically an HDU with\u001b[39;00m\n\u001b[1;32m    386\u001b[0m \u001b[38;5;66;03m# a very large number of HDUs could blow the stack, so use a loop\u001b[39;00m\n\u001b[1;32m    387\u001b[0m \u001b[38;5;66;03m# instead\u001b[39;00m\n\u001b[1;32m    388\u001b[0m \u001b[38;5;28;01mtry\u001b[39;00m:\n\u001b[1;32m    389\u001b[0m     \u001b[38;5;28;01mreturn\u001b[39;00m \u001b[38;5;28mself\u001b[39m\u001b[38;5;241m.\u001b[39m_try_while_unread_hdus(\n\u001b[0;32m--> 390\u001b[0m         \u001b[38;5;28msuper\u001b[39m()\u001b[38;5;241m.\u001b[39m\u001b[38;5;21m__getitem__\u001b[39m, \u001b[38;5;28mself\u001b[39m\u001b[38;5;241m.\u001b[39m_positive_index_of(key)\n\u001b[1;32m    391\u001b[0m     )\n\u001b[1;32m    392\u001b[0m \u001b[38;5;28;01mexcept\u001b[39;00m \u001b[38;5;167;01mIndexError\u001b[39;00m \u001b[38;5;28;01mas\u001b[39;00m e:\n\u001b[1;32m    393\u001b[0m     \u001b[38;5;66;03m# Raise a more helpful IndexError if the file was not fully read.\u001b[39;00m\n\u001b[1;32m    394\u001b[0m     \u001b[38;5;28;01mif\u001b[39;00m \u001b[38;5;28mself\u001b[39m\u001b[38;5;241m.\u001b[39m_read_all:\n",
      "File \u001b[0;32m/opt/anaconda3/envs/Km3Kit/lib/python3.12/site-packages/astropy/io/fits/hdu/hdulist.py:857\u001b[0m, in \u001b[0;36mHDUList._positive_index_of\u001b[0;34m(self, key)\u001b[0m\n\u001b[1;32m    843\u001b[0m \u001b[38;5;28;01mdef\u001b[39;00m \u001b[38;5;21m_positive_index_of\u001b[39m(\u001b[38;5;28mself\u001b[39m, key):\n\u001b[1;32m    844\u001b[0m \u001b[38;5;250m    \u001b[39m\u001b[38;5;124;03m\"\"\"\u001b[39;00m\n\u001b[1;32m    845\u001b[0m \u001b[38;5;124;03m    Same as index_of, but ensures always returning a positive index\u001b[39;00m\n\u001b[1;32m    846\u001b[0m \u001b[38;5;124;03m    or zero.\u001b[39;00m\n\u001b[0;32m   (...)\u001b[0m\n\u001b[1;32m    855\u001b[0m \u001b[38;5;124;03m    inefficient.\u001b[39;00m\n\u001b[1;32m    856\u001b[0m \u001b[38;5;124;03m    \"\"\"\u001b[39;00m\n\u001b[0;32m--> 857\u001b[0m     index \u001b[38;5;241m=\u001b[39m \u001b[38;5;28mself\u001b[39m\u001b[38;5;241m.\u001b[39mindex_of(key)\n\u001b[1;32m    859\u001b[0m     \u001b[38;5;28;01mif\u001b[39;00m index \u001b[38;5;241m>\u001b[39m\u001b[38;5;241m=\u001b[39m \u001b[38;5;241m0\u001b[39m:\n\u001b[1;32m    860\u001b[0m         \u001b[38;5;28;01mreturn\u001b[39;00m index\n",
      "File \u001b[0;32m/opt/anaconda3/envs/Km3Kit/lib/python3.12/site-packages/astropy/io/fits/hdu/hdulist.py:839\u001b[0m, in \u001b[0;36mHDUList.index_of\u001b[0;34m(self, key)\u001b[0m\n\u001b[1;32m    836\u001b[0m         \u001b[38;5;28;01mbreak\u001b[39;00m\n\u001b[1;32m    838\u001b[0m \u001b[38;5;28;01mif\u001b[39;00m found \u001b[38;5;129;01mis\u001b[39;00m \u001b[38;5;28;01mNone\u001b[39;00m:\n\u001b[0;32m--> 839\u001b[0m     \u001b[38;5;28;01mraise\u001b[39;00m \u001b[38;5;167;01mKeyError\u001b[39;00m(\u001b[38;5;124mf\u001b[39m\u001b[38;5;124m\"\u001b[39m\u001b[38;5;124mExtension \u001b[39m\u001b[38;5;132;01m{\u001b[39;00mkey\u001b[38;5;132;01m!r}\u001b[39;00m\u001b[38;5;124m not found.\u001b[39m\u001b[38;5;124m\"\u001b[39m)\n\u001b[1;32m    840\u001b[0m \u001b[38;5;28;01melse\u001b[39;00m:\n\u001b[1;32m    841\u001b[0m     \u001b[38;5;28;01mreturn\u001b[39;00m found\n",
      "\u001b[0;31mKeyError\u001b[0m: \"Extension 'EVENTS' not found.\""
     ]
    }
   ],
   "source": [
    "events_3fhl = EventList.read(\"data/aerie-apps_bin1-9__allsky_1024_i2.5_r0.0_p1.0_fc2Flux_negSigMap.fits\")"
   ]
  },
  {
   "cell_type": "code",
   "execution_count": 11,
   "metadata": {},
   "outputs": [
    {
     "data": {
      "text/html": [
       "<div><i>Table length=12288</i>\n",
       "<table id=\"table5507650464\" class=\"table-striped table-bordered table-condensed\">\n",
       "<thead><tr><th>significance</th><th>flux</th><th>flux_lower_bound</th><th>flux_upper_bound</th></tr></thead>\n",
       "<thead><tr><th>float32[1024]</th><th>float32[1024]</th><th>float32[1024]</th><th>float32[1024]</th></tr></thead>\n",
       "<tr><td>-1.6375e+30 .. -1.6375e+30</td><td>-1.6375e+30 .. -1.6375e+30</td><td>-1.6375e+30 .. -1.6375e+30</td><td>-1.6375e+30 .. -1.6375e+30</td></tr>\n",
       "<tr><td>-1.6375e+30 .. -1.6375e+30</td><td>-1.6375e+30 .. -1.6375e+30</td><td>-1.6375e+30 .. -1.6375e+30</td><td>-1.6375e+30 .. -1.6375e+30</td></tr>\n",
       "<tr><td>-1.6375e+30 .. -1.6375e+30</td><td>-1.6375e+30 .. -1.6375e+30</td><td>-1.6375e+30 .. -1.6375e+30</td><td>-1.6375e+30 .. -1.6375e+30</td></tr>\n",
       "<tr><td>-1.6375e+30 .. -1.6375e+30</td><td>-1.6375e+30 .. -1.6375e+30</td><td>-1.6375e+30 .. -1.6375e+30</td><td>-1.6375e+30 .. -1.6375e+30</td></tr>\n",
       "<tr><td>-1.6375e+30 .. -1.6375e+30</td><td>-1.6375e+30 .. -1.6375e+30</td><td>-1.6375e+30 .. -1.6375e+30</td><td>-1.6375e+30 .. -1.6375e+30</td></tr>\n",
       "<tr><td>-1.6375e+30 .. -1.6375e+30</td><td>-1.6375e+30 .. -1.6375e+30</td><td>-1.6375e+30 .. -1.6375e+30</td><td>-1.6375e+30 .. -1.6375e+30</td></tr>\n",
       "<tr><td>-1.6375e+30 .. -1.6375e+30</td><td>-1.6375e+30 .. -1.6375e+30</td><td>-1.6375e+30 .. -1.6375e+30</td><td>-1.6375e+30 .. -1.6375e+30</td></tr>\n",
       "<tr><td>-1.6375e+30 .. -1.6375e+30</td><td>-1.6375e+30 .. -1.6375e+30</td><td>-1.6375e+30 .. -1.6375e+30</td><td>-1.6375e+30 .. -1.6375e+30</td></tr>\n",
       "<tr><td>-1.6375e+30 .. -1.6375e+30</td><td>-1.6375e+30 .. -1.6375e+30</td><td>-1.6375e+30 .. -1.6375e+30</td><td>-1.6375e+30 .. -1.6375e+30</td></tr>\n",
       "<tr><td>-1.6375e+30 .. -1.6375e+30</td><td>-1.6375e+30 .. -1.6375e+30</td><td>-1.6375e+30 .. -1.6375e+30</td><td>-1.6375e+30 .. -1.6375e+30</td></tr>\n",
       "<tr><td>...</td><td>...</td><td>...</td><td>...</td></tr>\n",
       "<tr><td>-1.6375e+30 .. -1.6375e+30</td><td>-1.6375e+30 .. -1.6375e+30</td><td>-1.6375e+30 .. -1.6375e+30</td><td>-1.6375e+30 .. -1.6375e+30</td></tr>\n",
       "<tr><td>-1.6375e+30 .. -1.6375e+30</td><td>-1.6375e+30 .. -1.6375e+30</td><td>-1.6375e+30 .. -1.6375e+30</td><td>-1.6375e+30 .. -1.6375e+30</td></tr>\n",
       "<tr><td>-1.6375e+30 .. -1.6375e+30</td><td>-1.6375e+30 .. -1.6375e+30</td><td>-1.6375e+30 .. -1.6375e+30</td><td>-1.6375e+30 .. -1.6375e+30</td></tr>\n",
       "<tr><td>-1.6375e+30 .. -1.6375e+30</td><td>-1.6375e+30 .. -1.6375e+30</td><td>-1.6375e+30 .. -1.6375e+30</td><td>-1.6375e+30 .. -1.6375e+30</td></tr>\n",
       "<tr><td>-1.6375e+30 .. -1.6375e+30</td><td>-1.6375e+30 .. -1.6375e+30</td><td>-1.6375e+30 .. -1.6375e+30</td><td>-1.6375e+30 .. -1.6375e+30</td></tr>\n",
       "<tr><td>-1.6375e+30 .. -1.6375e+30</td><td>-1.6375e+30 .. -1.6375e+30</td><td>-1.6375e+30 .. -1.6375e+30</td><td>-1.6375e+30 .. -1.6375e+30</td></tr>\n",
       "<tr><td>-1.6375e+30 .. -1.6375e+30</td><td>-1.6375e+30 .. -1.6375e+30</td><td>-1.6375e+30 .. -1.6375e+30</td><td>-1.6375e+30 .. -1.6375e+30</td></tr>\n",
       "<tr><td>-1.6375e+30 .. -1.6375e+30</td><td>-1.6375e+30 .. -1.6375e+30</td><td>-1.6375e+30 .. -1.6375e+30</td><td>-1.6375e+30 .. -1.6375e+30</td></tr>\n",
       "<tr><td>-1.6375e+30 .. -1.6375e+30</td><td>-1.6375e+30 .. -1.6375e+30</td><td>-1.6375e+30 .. -1.6375e+30</td><td>-1.6375e+30 .. -1.6375e+30</td></tr>\n",
       "<tr><td>-1.6375e+30 .. -1.6375e+30</td><td>-1.6375e+30 .. -1.6375e+30</td><td>-1.6375e+30 .. -1.6375e+30</td><td>-1.6375e+30 .. -1.6375e+30</td></tr>\n",
       "</table></div>"
      ],
      "text/plain": [
       "<Table length=12288>\n",
       "       significance        ...      flux_upper_bound     \n",
       "      float32[1024]        ...       float32[1024]       \n",
       "-------------------------- ... --------------------------\n",
       "-1.6375e+30 .. -1.6375e+30 ... -1.6375e+30 .. -1.6375e+30\n",
       "-1.6375e+30 .. -1.6375e+30 ... -1.6375e+30 .. -1.6375e+30\n",
       "-1.6375e+30 .. -1.6375e+30 ... -1.6375e+30 .. -1.6375e+30\n",
       "-1.6375e+30 .. -1.6375e+30 ... -1.6375e+30 .. -1.6375e+30\n",
       "-1.6375e+30 .. -1.6375e+30 ... -1.6375e+30 .. -1.6375e+30\n",
       "-1.6375e+30 .. -1.6375e+30 ... -1.6375e+30 .. -1.6375e+30\n",
       "-1.6375e+30 .. -1.6375e+30 ... -1.6375e+30 .. -1.6375e+30\n",
       "-1.6375e+30 .. -1.6375e+30 ... -1.6375e+30 .. -1.6375e+30\n",
       "-1.6375e+30 .. -1.6375e+30 ... -1.6375e+30 .. -1.6375e+30\n",
       "-1.6375e+30 .. -1.6375e+30 ... -1.6375e+30 .. -1.6375e+30\n",
       "                       ... ...                        ...\n",
       "-1.6375e+30 .. -1.6375e+30 ... -1.6375e+30 .. -1.6375e+30\n",
       "-1.6375e+30 .. -1.6375e+30 ... -1.6375e+30 .. -1.6375e+30\n",
       "-1.6375e+30 .. -1.6375e+30 ... -1.6375e+30 .. -1.6375e+30\n",
       "-1.6375e+30 .. -1.6375e+30 ... -1.6375e+30 .. -1.6375e+30\n",
       "-1.6375e+30 .. -1.6375e+30 ... -1.6375e+30 .. -1.6375e+30\n",
       "-1.6375e+30 .. -1.6375e+30 ... -1.6375e+30 .. -1.6375e+30\n",
       "-1.6375e+30 .. -1.6375e+30 ... -1.6375e+30 .. -1.6375e+30\n",
       "-1.6375e+30 .. -1.6375e+30 ... -1.6375e+30 .. -1.6375e+30\n",
       "-1.6375e+30 .. -1.6375e+30 ... -1.6375e+30 .. -1.6375e+30\n",
       "-1.6375e+30 .. -1.6375e+30 ... -1.6375e+30 .. -1.6375e+30"
      ]
     },
     "execution_count": 11,
     "metadata": {},
     "output_type": "execute_result"
    }
   ],
   "source": [
    "from astropy.table import Table\n",
    "table = Table.read(\"data/aerie-apps_bin1-9__allsky_1024_i2.5_r0.0_p1.0_fc2Flux_negSigMap.fits\",  \"extension\")\n",
    "table\n",
    "\n"
   ]
  },
  {
   "cell_type": "code",
   "execution_count": 12,
   "metadata": {},
   "outputs": [
    {
     "data": {
      "text/plain": [
       "['significance', 'flux', 'flux_lower_bound', 'flux_upper_bound']"
      ]
     },
     "execution_count": 12,
     "metadata": {},
     "output_type": "execute_result"
    }
   ],
   "source": [
    "table.colnames"
   ]
  },
  {
   "cell_type": "markdown",
   "metadata": {},
   "source": [
    "The actual data is stored as an [astropy.table.Table](http://docs.astropy.org/en/stable/api/astropy.table.Table.html) object. It can be accessed with the `.table` attribute: "
   ]
  },
  {
   "cell_type": "code",
   "execution_count": 5,
   "metadata": {},
   "outputs": [
    {
     "data": {
      "text/html": [
       "<div><i>Table length=3</i>\n",
       "<table id=\"table5506273536\" class=\"table-striped table-bordered table-condensed\">\n",
       "<thead><tr><th>RUN_ID</th><th>EVENT_ID</th><th>TYPE</th><th>RA</th><th>DEC</th><th>ENERGY</th><th>TIME</th></tr></thead>\n",
       "<thead><tr><th>None</th><th>None</th><th>None</th><th>deg</th><th>deg</th><th>GeV</th><th>s</th></tr></thead>\n",
       "<thead><tr><th>float64</th><th>float64</th><th>float64</th><th>float32</th><th>float32</th><th>float32</th><th>float64</th></tr></thead>\n",
       "<tr><td>101.0</td><td>1.0</td><td>0.0</td><td>5.729578</td><td>22.918312</td><td>1.1</td><td>2450000.5</td></tr>\n",
       "<tr><td>102.0</td><td>2.0</td><td>1.0</td><td>11.459156</td><td>28.64789</td><td>2.2</td><td>2450000.6</td></tr>\n",
       "<tr><td>103.0</td><td>3.0</td><td>0.0</td><td>17.188734</td><td>34.37747</td><td>3.3</td><td>2450000.7</td></tr>\n",
       "</table></div>"
      ],
      "text/plain": [
       "<Table length=3>\n",
       " RUN_ID EVENT_ID   TYPE      RA       DEC     ENERGY    TIME  \n",
       "  None    None     None     deg       deg      GeV       s    \n",
       "float64 float64  float64  float32   float32  float32  float64 \n",
       "------- -------- ------- --------- --------- ------- ---------\n",
       "  101.0      1.0     0.0  5.729578 22.918312     1.1 2450000.5\n",
       "  102.0      2.0     1.0 11.459156  28.64789     2.2 2450000.6\n",
       "  103.0      3.0     0.0 17.188734  34.37747     3.3 2450000.7"
      ]
     },
     "execution_count": 5,
     "metadata": {},
     "output_type": "execute_result"
    }
   ],
   "source": [
    "events_3fhl.table"
   ]
  },
  {
   "cell_type": "markdown",
   "metadata": {},
   "source": [
    "You can do *len* over event_3fhl.table to find the total number of events."
   ]
  },
  {
   "cell_type": "code",
   "execution_count": 6,
   "metadata": {},
   "outputs": [
    {
     "data": {
      "text/plain": [
       "3"
      ]
     },
     "execution_count": 6,
     "metadata": {},
     "output_type": "execute_result"
    }
   ],
   "source": [
    "len(events_3fhl.table)"
   ]
  },
  {
   "cell_type": "markdown",
   "metadata": {},
   "source": [
    "And we can access any other attribute of the `Table` object as well:"
   ]
  },
  {
   "cell_type": "code",
   "execution_count": 16,
   "metadata": {},
   "outputs": [
    {
     "data": {
      "text/plain": [
       "['RUN_ID', 'EVENT_ID', 'TYPE', 'RA', 'DEC', 'ENERGY', 'TIME']"
      ]
     },
     "execution_count": 16,
     "metadata": {},
     "output_type": "execute_result"
    }
   ],
   "source": [
    "events_3fhl.table.colnames"
   ]
  },
  {
   "cell_type": "markdown",
   "metadata": {},
   "source": [
    "For convenience we can access the most important event parameters as properties on the `EventList` objects. The attributes will return corresponding Astropy objects to represent the data, such as [astropy.units.Quantity](http://docs.astropy.org/en/stable/api/astropy.units.Quantity.html), [astropy.coordinates.SkyCoord](http://docs.astropy.org/en/stable/api/astropy.coordinates.SkyCoord.html) or [astropy.time.Time](http://docs.astropy.org/en/stable/api/astropy.time.Time.html#astropy.time.Time) objects:"
   ]
  },
  {
   "cell_type": "code",
   "execution_count": 18,
   "metadata": {},
   "outputs": [
    {
     "data": {
      "text/latex": [
       "$[1100,~2200,~3300] \\; \\mathrm{MeV}$"
      ],
      "text/plain": [
       "<Quantity [1100., 2200., 3300.] MeV>"
      ]
     },
     "execution_count": 18,
     "metadata": {},
     "output_type": "execute_result"
    }
   ],
   "source": [
    "events_3fhl.energy.to(\"MeV\")"
   ]
  },
  {
   "cell_type": "code",
   "execution_count": 19,
   "metadata": {},
   "outputs": [
    {
     "data": {
      "text/plain": [
       "<SkyCoord (Galactic): (l, b) in deg\n",
       "    [(114.41410858, -39.48128015), (121.44594471, -34.20769613),\n",
       "     (126.99179204, -28.35773228)]>"
      ]
     },
     "execution_count": 19,
     "metadata": {},
     "output_type": "execute_result"
    }
   ],
   "source": [
    "events_3fhl.galactic"
   ]
  },
  {
   "cell_type": "code",
   "execution_count": 11,
   "metadata": {},
   "outputs": [
    {
     "data": {
      "text/plain": [
       "<Time object: scale='tt' format='mjd' value=[54682.82946153 54682.89243456 54682.89709472 ... 57236.75267735\n",
       " 57233.37455141 57233.44802852]>"
      ]
     },
     "execution_count": 11,
     "metadata": {},
     "output_type": "execute_result"
    }
   ],
   "source": [
    "events_3fhl.time"
   ]
  },
  {
   "cell_type": "markdown",
   "metadata": {},
   "source": [
    "There is also some convenience to plot the events:"
   ]
  },
  {
   "cell_type": "code",
   "execution_count": 12,
   "metadata": {},
   "outputs": [],
   "source": [
    "events_3fhl.plot_image()"
   ]
  },
  {
   "cell_type": "markdown",
   "metadata": {},
   "source": [
    "In addition `EventList` provides convenience methods to filter the event lists. One possible use case is to find the highest energy event within a radius of 0.5 deg around the vela position:"
   ]
  },
  {
   "cell_type": "code",
   "execution_count": null,
   "metadata": {},
   "outputs": [],
   "source": [
    "# select all events within a radius of 0.5 deg around center\n",
    "from regions import CircleSkyRegion\n",
    "\n",
    "center = SkyCoord(\"0d\", \"0d\", frame=\"galactic\")\n",
    "region = CircleSkyRegion(center, radius=0.5 * u.deg)\n",
    "events_gc_3fhl = events_3fhl.select_region(region)\n",
    "\n",
    "# sort events by energy\n",
    "events_gc_3fhl.table.sort(\"ENERGY\")\n",
    "\n",
    "# and show highest energy photon\n",
    "events_gc_3fhl.energy[-1].to(\"GeV\")"
   ]
  },
  {
   "cell_type": "markdown",
   "metadata": {},
   "source": [
    "## 2. Maps\n",
    "\n",
    "The [gammapy.maps]() sub package contains classes to work with sky images and cubes."
   ]
  },
  {
   "cell_type": "code",
   "execution_count": null,
   "metadata": {},
   "outputs": [],
   "source": [
    "from gammapy.maps import Map\n",
    "\n",
    "gc_3fhl = Map.create(\n",
    "    width=(20 * u.deg, 10 * u.deg),\n",
    "    skydir=center,\n",
    "    proj=\"CAR\",\n",
    "    binsz=0.05 *u.deg,\n",
    "    map_type=\"wcs\",\n",
    "    frame=\"galactic\"\n",
    ")"
   ]
  },
  {
   "cell_type": "markdown",
   "metadata": {},
   "source": [
    "The image is a `~gammapy.maps.WcsNDMap` object:"
   ]
  },
  {
   "cell_type": "code",
   "execution_count": null,
   "metadata": {},
   "outputs": [],
   "source": [
    "gc_3fhl"
   ]
  },
  {
   "cell_type": "markdown",
   "metadata": {},
   "source": [
    "The shape of the image is 400 x 200 pixel and it is defined using a cartesian projection in galactic coordinates.\n",
    "\n",
    "The ``geom`` attribute is a `~gammapy.maps.WcsGeom` object:"
   ]
  },
  {
   "cell_type": "code",
   "execution_count": null,
   "metadata": {},
   "outputs": [],
   "source": [
    "print(gc_3fhl.geom)"
   ]
  },
  {
   "cell_type": "markdown",
   "metadata": {},
   "source": [
    "Now we can fill the events in the map and plot it:"
   ]
  },
  {
   "cell_type": "code",
   "execution_count": null,
   "metadata": {},
   "outputs": [],
   "source": [
    "gc_3fhl.fill_events(events_3fhl)\n",
    "gc_3fhl.plot(stretch=\"sqrt\", cmap=\"inferno\");"
   ]
  },
  {
   "cell_type": "markdown",
   "metadata": {},
   "source": [
    "The ``plot`` method basically calls [plt.imshow](http://matplotlib.org/api/pyplot_api.html#matplotlib.pyplot.imshow), passing the `gc_3fhl.data` attribute but in addition handles axis with world coordinates using [astropy.visualization.wcsaxes](https://docs.astropy.org/en/stable/visualization/wcsaxes/) and defines some defaults for nicer plots (e.g. the colormap 'afmhot').\n",
    "\n",
    "Now we can also take a look at the `.data` attribute: "
   ]
  },
  {
   "cell_type": "code",
   "execution_count": null,
   "metadata": {},
   "outputs": [],
   "source": [
    "gc_3fhl.data"
   ]
  },
  {
   "cell_type": "markdown",
   "metadata": {},
   "source": [
    "That looks familiar! It just an *ordinary* 2 dimensional numpy array,  which means you can apply any known numpy method to it:"
   ]
  },
  {
   "cell_type": "code",
   "execution_count": null,
   "metadata": {},
   "outputs": [],
   "source": [
    "print(f\"Total number of counts in the image: {gc_3fhl.data.sum():.0f}\")"
   ]
  },
  {
   "cell_type": "code",
   "execution_count": null,
   "metadata": {},
   "outputs": [],
   "source": [
    "from gammapy.maps import MapAxis"
   ]
  },
  {
   "cell_type": "code",
   "execution_count": null,
   "metadata": {},
   "outputs": [],
   "source": [
    "energy_axis = MapAxis.from_energy_bounds(\n",
    "    energy_min=\"10 GeV\", energy_max=\"2 TeV\", nbin=5\n",
    ")"
   ]
  },
  {
   "cell_type": "code",
   "execution_count": null,
   "metadata": {},
   "outputs": [],
   "source": [
    "print(energy_axis)"
   ]
  },
  {
   "cell_type": "code",
   "execution_count": null,
   "metadata": {},
   "outputs": [],
   "source": [
    "gc_3fhl_cube = Map.create(\n",
    "    width=(20 * u.deg, 10 * u.deg),\n",
    "    skydir=center,\n",
    "    proj=\"CAR\",\n",
    "    binsz=0.05 *u.deg,\n",
    "    map_type=\"wcs\",\n",
    "    frame=\"galactic\",\n",
    "    axes=[energy_axis]\n",
    ")"
   ]
  },
  {
   "cell_type": "code",
   "execution_count": null,
   "metadata": {},
   "outputs": [],
   "source": [
    "print(gc_3fhl_cube)"
   ]
  },
  {
   "cell_type": "code",
   "execution_count": null,
   "metadata": {},
   "outputs": [],
   "source": [
    "gc_3fhl_cube.fill_events(events_3fhl)"
   ]
  },
  {
   "cell_type": "markdown",
   "metadata": {},
   "source": [
    "To make the structures in the image more visible we will smooth the data using a Gaussian kernel."
   ]
  },
  {
   "cell_type": "code",
   "execution_count": null,
   "metadata": {},
   "outputs": [],
   "source": [
    "gc_3fhl_cube_smoothed = gc_3fhl_cube.smooth(\n",
    "    kernel=\"gauss\", width=0.1 * u.deg\n",
    ")"
   ]
  },
  {
   "cell_type": "markdown",
   "metadata": {},
   "source": [
    "To visualise the data cube we can use interactive plotting:"
   ]
  },
  {
   "cell_type": "code",
   "execution_count": null,
   "metadata": {},
   "outputs": [],
   "source": [
    "gc_3fhl_cube_smoothed.plot_interactive(cmap=\"inferno\")"
   ]
  },
  {
   "cell_type": "markdown",
   "metadata": {},
   "source": [
    "Or plot the image in energy bands as a grid:"
   ]
  },
  {
   "cell_type": "code",
   "execution_count": null,
   "metadata": {},
   "outputs": [],
   "source": [
    "gc_3fhl_cube_smoothed.plot_grid(\n",
    "    ncols=3, figsize=(12, 5), cmap=\"inferno\", stretch=\"sqrt\"\n",
    ");"
   ]
  },
  {
   "cell_type": "markdown",
   "metadata": {},
   "source": [
    "You can also do a rectangular cutout of a certain region in the image:"
   ]
  },
  {
   "cell_type": "code",
   "execution_count": null,
   "metadata": {},
   "outputs": [],
   "source": [
    "# define center and size of the cutout region\n",
    "center = SkyCoord(0, 0, unit=\"deg\", frame=\"galactic\")\n",
    "gc_3fhl_cutout = gc_3fhl_cube_smoothed.cutout(center, 9 * u.deg)\n",
    "gc_3fhl_cutout.plot_interactive(stretch=\"sqrt\", cmap=\"inferno\");"
   ]
  },
  {
   "cell_type": "markdown",
   "metadata": {},
   "source": [
    "For a more detailed introduction to `gammapy.maps`, take a look a the [maps.ipynb](https://docs.gammapy.org/0.18.2/tutorials/maps.html) notebook."
   ]
  },
  {
   "cell_type": "markdown",
   "metadata": {},
   "source": [
    "## 3. Source catalogs\n",
    "\n",
    "Gammapy provides a convenient interface to access and work with catalog based data. \n",
    "\n",
    "Let's start with importing the 3FHL catalog object from the `~gammapy.catalog` submodule:"
   ]
  },
  {
   "cell_type": "code",
   "execution_count": null,
   "metadata": {},
   "outputs": [],
   "source": [
    "from gammapy.catalog import SourceCatalog3FHL"
   ]
  },
  {
   "cell_type": "markdown",
   "metadata": {},
   "source": [
    "First we initialize the Fermi-LAT 3FHL catalog and directly take a look at the `.table` attribute:"
   ]
  },
  {
   "cell_type": "code",
   "execution_count": null,
   "metadata": {},
   "outputs": [],
   "source": [
    "fermi_3fhl = SourceCatalog3FHL(\"data/gll_psch_v13.fit.gz\")\n",
    "fermi_3fhl.table"
   ]
  },
  {
   "cell_type": "markdown",
   "metadata": {},
   "source": [
    "This looks very familiar again. The data is just stored as an [astropy.table.Table](http://docs.astropy.org/en/stable/api/astropy.table.Table.html#astropy.table.Table) object. We have all the methods and attributes of the `Table` object available. E.g. we can sort the underlying table by `Signif_Avg` to find the top 5 most significant sources:\n",
    "\n"
   ]
  },
  {
   "cell_type": "code",
   "execution_count": null,
   "metadata": {},
   "outputs": [],
   "source": [
    "# sort table by significance\n",
    "fermi_3fhl.table.sort(\"Signif_Avg\")\n",
    "\n",
    "# invert the order to find the highest values and take the top 5\n",
    "top_five_TS_3fhl = fermi_3fhl.table[::-1][:5]\n",
    "\n",
    "# print the top five significant sources with association and source class\n",
    "top_five_TS_3fhl[[\"Source_Name\", \"ASSOC1\", \"ASSOC2\", \"CLASS\", \"Signif_Avg\"]]"
   ]
  },
  {
   "cell_type": "markdown",
   "metadata": {},
   "source": [
    "If you are interested in the data of an individual source you can access the information from catalog using the name of the source or any alias source name that is defined in the catalog:"
   ]
  },
  {
   "cell_type": "code",
   "execution_count": null,
   "metadata": {},
   "outputs": [],
   "source": [
    "mkn_421_3fhl = fermi_3fhl[\"3FHL J1104.4+3812\"]\n",
    "\n",
    "# or use any alias source name that is defined in the catalog\n",
    "mkn_421_3fhl = fermi_3fhl[\"Mkn 421\"]\n",
    "print(mkn_421_3fhl.data[\"Signif_Avg\"])"
   ]
  },
  {
   "cell_type": "markdown",
   "metadata": {},
   "source": [
    "Now we can plot the sources on the image created above:"
   ]
  },
  {
   "cell_type": "code",
   "execution_count": null,
   "metadata": {},
   "outputs": [],
   "source": [
    "_, ax, _ = gc_3fhl.smooth(\"0.1 deg\").plot(\n",
    "    stretch=\"sqrt\", cmap=\"inferno\"\n",
    ");\n",
    "\n",
    "positions = fermi_3fhl.positions\n",
    "ax.scatter(\n",
    "    positions.data.lon.deg,\n",
    "    positions.data.lat.deg,\n",
    "    transform=ax.get_transform(\"icrs\"),\n",
    "    color=\"w\",\n",
    "    marker=\"x\"\n",
    ")"
   ]
  },
  {
   "cell_type": "markdown",
   "metadata": {},
   "source": [
    "## 4. Spectral Models and Flux points\n",
    "\n",
    "In the previous section we learned how access basic data from individual sources in the catalog. Now we will go one step further and explore the full spectral information of sources.\n",
    "\n",
    "As a first example we will start with the Crab Nebula:"
   ]
  },
  {
   "cell_type": "code",
   "execution_count": null,
   "metadata": {},
   "outputs": [],
   "source": [
    "crab_3fhl = fermi_3fhl[\"Crab Nebula\"]\n",
    "crab_3fhl_model = crab_3fhl.sky_model()\n",
    "print(crab_3fhl_model)"
   ]
  },
  {
   "cell_type": "code",
   "execution_count": null,
   "metadata": {},
   "outputs": [],
   "source": [
    "crab_3fhl_spec = crab_3fhl_model.spectral_model"
   ]
  },
  {
   "cell_type": "markdown",
   "metadata": {},
   "source": [
    "The `crab_3fhl.spectral_model` is an instance of the `PowerLaw2SpectralModel` model, with the parameter values and errors taken from the 3FHL catalog. \n",
    "\n",
    "Let's plot the spectral model in the energy range between 10 GeV and 2000 GeV:"
   ]
  },
  {
   "cell_type": "code",
   "execution_count": null,
   "metadata": {},
   "outputs": [],
   "source": [
    "ax_crab_3fhl = crab_3fhl_spec.plot(\n",
    "    energy_range=[10, 2000] * u.GeV,\n",
    ")"
   ]
  },
  {
   "cell_type": "markdown",
   "metadata": {},
   "source": [
    "We assign the return axes object to variable called `ax_crab_3fhl`, because we will re-use it later to plot the flux points on top.\n",
    "\n",
    "To compute the differential flux at 100 GeV we can simply call the model like normal Python function and convert to the desired units:"
   ]
  },
  {
   "cell_type": "code",
   "execution_count": null,
   "metadata": {},
   "outputs": [],
   "source": [
    "crab_3fhl_spec(100 * u.GeV).to(\"cm-2 s-1 GeV-1\")"
   ]
  },
  {
   "cell_type": "markdown",
   "metadata": {},
   "source": [
    "Next we can compute the integral flux of the Crab between 10 GeV and 2000 GeV:"
   ]
  },
  {
   "cell_type": "code",
   "execution_count": null,
   "metadata": {},
   "outputs": [],
   "source": [
    "crab_3fhl_spec.integral(\n",
    "    energy_min=10 * u.GeV, energy_max=2 * u.TeV\n",
    ").to(\"cm-2 s-1\")"
   ]
  },
  {
   "cell_type": "markdown",
   "metadata": {},
   "source": [
    "We can easily convince ourself, that it corresponds to the value given in the Fermi-LAT 3FHL catalog:"
   ]
  },
  {
   "cell_type": "code",
   "execution_count": null,
   "metadata": {},
   "outputs": [],
   "source": [
    "crab_3fhl.data[\"Flux\"]"
   ]
  },
  {
   "cell_type": "markdown",
   "metadata": {},
   "source": [
    "In addition we can compute the energy flux between 10 GeV and 2000 GeV:"
   ]
  },
  {
   "cell_type": "code",
   "execution_count": null,
   "metadata": {},
   "outputs": [],
   "source": [
    "crab_3fhl_spec.energy_flux(\n",
    "    energy_min=10 * u.GeV, energy_max=2000 * u.GeV\n",
    ").to(\"erg cm-2 s-1\")"
   ]
  },
  {
   "cell_type": "markdown",
   "metadata": {},
   "source": [
    "Next we will access the flux points data of the Crab:"
   ]
  },
  {
   "cell_type": "code",
   "execution_count": null,
   "metadata": {},
   "outputs": [],
   "source": [
    "print(crab_3fhl.flux_points)"
   ]
  },
  {
   "cell_type": "markdown",
   "metadata": {},
   "source": [
    "If you want to learn more about the different flux point formats you can read the specification [here](https://gamma-astro-data-formats.readthedocs.io/en/latest/spectra/flux_points/index.html).\n",
    "\n",
    "No we can check again the underlying astropy data structure by accessing the `.table` attribute:"
   ]
  },
  {
   "cell_type": "code",
   "execution_count": null,
   "metadata": {},
   "outputs": [],
   "source": [
    "crab_3fhl.flux_points.table"
   ]
  },
  {
   "cell_type": "markdown",
   "metadata": {},
   "source": [
    "Finally let's combine spectral model and flux points in a single plot and scale with `energy_power=2` to obtain the spectral energy distribution:"
   ]
  },
  {
   "cell_type": "code",
   "execution_count": null,
   "metadata": {},
   "outputs": [],
   "source": [
    "ax = crab_3fhl_spec.plot(\n",
    "    energy_range=[10, 2000] * u.GeV, energy_power=2\n",
    ")\n",
    "\n",
    "ax = crab_3fhl_spec.plot_error(\n",
    "    energy_range=[10, 2000] * u.GeV,\n",
    "    energy_power=2,\n",
    "    facecolor=\"tab:blue\"\n",
    ")\n",
    "\n",
    "fp = crab_3fhl.flux_points.to_sed_type(\"dnde\")\n",
    "fp.plot(ax=ax, energy_power=2);"
   ]
  }
 ],
 "metadata": {
  "file_extension": ".py",
  "kernelspec": {
   "display_name": "Python 3 (ipykernel)",
   "language": "python",
   "name": "python3"
  },
  "language_info": {
   "codemirror_mode": {
    "name": "ipython",
    "version": 3
   },
   "file_extension": ".py",
   "mimetype": "text/x-python",
   "name": "python",
   "nbconvert_exporter": "python",
   "pygments_lexer": "ipython3",
   "version": "3.12.7"
  },
  "mimetype": "text/x-python",
  "name": "python",
  "npconvert_exporter": "python",
  "pygments_lexer": "ipython3",
  "version": 3
 },
 "nbformat": 4,
 "nbformat_minor": 4
}
